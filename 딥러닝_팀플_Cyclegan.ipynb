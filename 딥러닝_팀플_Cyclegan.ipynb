{
  "cells": [
    {
      "cell_type": "code",
      "execution_count": null,
      "id": "71d39e62",
      "metadata": {
        "execution": {
          "iopub.execute_input": "2021-08-29T15:12:14.961998Z",
          "iopub.status.busy": "2021-08-29T15:12:14.960916Z",
          "iopub.status.idle": "2021-08-29T15:12:16.793530Z",
          "shell.execute_reply": "2021-08-29T15:12:16.792522Z",
          "shell.execute_reply.started": "2021-08-17T15:58:40.153302Z"
        },
        "papermill": {
          "duration": 1.942173,
          "end_time": "2021-08-29T15:12:16.793771",
          "exception": false,
          "start_time": "2021-08-29T15:12:14.851598",
          "status": "completed"
        },
        "tags": [],
        "id": "71d39e62"
      },
      "outputs": [],
      "source": [
        "import os\n",
        "import torch\n",
        "import torch.nn as nn\n",
        "import numpy as np\n",
        "import cv2\n",
        "import matplotlib.pyplot as plt"
      ]
    },
    {
      "cell_type": "code",
      "source": [
        "from google.colab import drive\n",
        "drive.mount('/content/drive', force_remount=True)"
      ],
      "metadata": {
        "colab": {
          "base_uri": "https://localhost:8080/"
        },
        "id": "13oNVRqKwGK3",
        "outputId": "47fc9c18-f1e8-4566-b16f-5fa6262188a2"
      },
      "id": "13oNVRqKwGK3",
      "execution_count": null,
      "outputs": [
        {
          "output_type": "stream",
          "name": "stdout",
          "text": [
            "Mounted at /content/drive\n"
          ]
        }
      ]
    },
    {
      "cell_type": "markdown",
      "id": "258ae3eb",
      "metadata": {
        "execution": {
          "iopub.execute_input": "2021-08-16T13:46:38.780264Z",
          "iopub.status.busy": "2021-08-16T13:46:38.779785Z",
          "iopub.status.idle": "2021-08-16T13:46:38.784886Z",
          "shell.execute_reply": "2021-08-16T13:46:38.784065Z",
          "shell.execute_reply.started": "2021-08-16T13:46:38.780222Z"
        },
        "papermill": {
          "duration": 0.022041,
          "end_time": "2021-08-29T15:12:16.884628",
          "exception": false,
          "start_time": "2021-08-29T15:12:16.862587",
          "status": "completed"
        },
        "tags": [],
        "id": "258ae3eb"
      },
      "source": [
        "## Step 1. Define Generator"
      ]
    },
    {
      "cell_type": "code",
      "execution_count": null,
      "id": "bf5baf82",
      "metadata": {
        "execution": {
          "iopub.execute_input": "2021-08-29T15:12:16.937447Z",
          "iopub.status.busy": "2021-08-29T15:12:16.936633Z",
          "iopub.status.idle": "2021-08-29T15:12:16.940440Z",
          "shell.execute_reply": "2021-08-29T15:12:16.940996Z",
          "shell.execute_reply.started": "2021-08-17T15:58:41.490716Z"
        },
        "papermill": {
          "duration": 0.033901,
          "end_time": "2021-08-29T15:12:16.941143",
          "exception": false,
          "start_time": "2021-08-29T15:12:16.907242",
          "status": "completed"
        },
        "tags": [],
        "id": "bf5baf82"
      },
      "outputs": [],
      "source": [
        "class ResidualBlock(nn.Module):\n",
        "    def __init__(self, in_channels):\n",
        "        super(ResidualBlock, self).__init__()\n",
        "        self.block = nn.Sequential(\n",
        "            nn.ReflectionPad2d(1), # padding, keep the image size constant after next conv2d\n",
        "            nn.Conv2d(in_channels, in_channels, 3),\n",
        "            nn.InstanceNorm2d(in_channels),\n",
        "            nn.ReLU(inplace=True),\n",
        "            nn.ReflectionPad2d(1),\n",
        "            nn.Conv2d(in_channels, in_channels, 3),\n",
        "            nn.InstanceNorm2d(in_channels)\n",
        "        )\n",
        "\n",
        "    def forward(self, x):\n",
        "        return x + self.block(x)"
      ]
    },
    {
      "cell_type": "code",
      "execution_count": null,
      "id": "1f047c9b",
      "metadata": {
        "execution": {
          "iopub.execute_input": "2021-08-29T15:12:17.001585Z",
          "iopub.status.busy": "2021-08-29T15:12:17.000526Z",
          "iopub.status.idle": "2021-08-29T15:12:17.004380Z",
          "shell.execute_reply": "2021-08-29T15:12:17.003802Z",
          "shell.execute_reply.started": "2021-08-17T15:58:41.499533Z"
        },
        "papermill": {
          "duration": 0.041728,
          "end_time": "2021-08-29T15:12:17.004519",
          "exception": false,
          "start_time": "2021-08-29T15:12:16.962791",
          "status": "completed"
        },
        "tags": [],
        "id": "1f047c9b"
      },
      "outputs": [],
      "source": [
        "class GeneratorResNet(nn.Module):\n",
        "    def __init__(self, in_channels, num_residual_blocks=9):\n",
        "        super(GeneratorResNet, self).__init__()\n",
        "\n",
        "        # Inital Convolution  3*256*256 -> 64*256*256\n",
        "        out_channels=64\n",
        "        self.conv = nn.Sequential(\n",
        "            nn.ReflectionPad2d(in_channels), # padding, keep the image size constant after next conv2d\n",
        "            nn.Conv2d(in_channels, out_channels, 2*in_channels+1),\n",
        "            nn.InstanceNorm2d(out_channels),\n",
        "            nn.ReLU(inplace=True),\n",
        "        )\n",
        "\n",
        "        channels = out_channels\n",
        "\n",
        "        # Downsampling   64*256*256 -> 128*128*128 -> 256*64*64\n",
        "        self.down = []\n",
        "        for _ in range(2):\n",
        "            out_channels = channels * 2\n",
        "            self.down += [\n",
        "                nn.Conv2d(channels, out_channels, 3, stride=2, padding=1),\n",
        "                nn.InstanceNorm2d(out_channels),\n",
        "                nn.ReLU(inplace=True),\n",
        "            ]\n",
        "            channels = out_channels\n",
        "        self.down = nn.Sequential(*self.down)\n",
        "\n",
        "        # Transformation (ResNet)  256*64*64\n",
        "        self.trans = [ResidualBlock(channels) for _ in range(num_residual_blocks)]\n",
        "        self.trans = nn.Sequential(*self.trans)\n",
        "\n",
        "        # Upsampling  256*64*64 -> 128*128*128 -> 64*256*256\n",
        "        self.up = []\n",
        "        for _ in range(2):\n",
        "            out_channels = channels // 2\n",
        "            self.up += [\n",
        "                nn.Upsample(scale_factor=2), # bilinear interpolation\n",
        "                nn.Conv2d(channels, out_channels, 3, stride=1, padding=1),\n",
        "                nn.InstanceNorm2d(out_channels),\n",
        "                nn.ReLU(inplace=True),\n",
        "            ]\n",
        "            channels = out_channels\n",
        "        self.up = nn.Sequential(*self.up)\n",
        "\n",
        "        # Out layer  64*256*256 -> 3*256*256\n",
        "        self.out = nn.Sequential(\n",
        "            nn.ReflectionPad2d(in_channels),\n",
        "            nn.Conv2d(channels, in_channels, 2*in_channels+1),\n",
        "            nn.Tanh()\n",
        "        )\n",
        "\n",
        "    def forward(self, x):\n",
        "        x = self.conv(x)\n",
        "        x = self.down(x)\n",
        "        x = self.trans(x)\n",
        "        x = self.up(x)\n",
        "        x = self.out(x)\n",
        "        return x"
      ]
    },
    {
      "cell_type": "markdown",
      "id": "f03fd9fd",
      "metadata": {
        "execution": {
          "iopub.execute_input": "2021-08-17T02:12:55.676929Z",
          "iopub.status.busy": "2021-08-17T02:12:55.676304Z",
          "iopub.status.idle": "2021-08-17T02:12:55.694692Z",
          "shell.execute_reply": "2021-08-17T02:12:55.693976Z",
          "shell.execute_reply.started": "2021-08-17T02:12:55.676889Z"
        },
        "papermill": {
          "duration": 0.022659,
          "end_time": "2021-08-29T15:12:17.049898",
          "exception": false,
          "start_time": "2021-08-29T15:12:17.027239",
          "status": "completed"
        },
        "tags": [],
        "id": "f03fd9fd"
      },
      "source": [
        "## Step 2. Define Discriminator"
      ]
    },
    {
      "cell_type": "code",
      "execution_count": null,
      "id": "ad1e0844",
      "metadata": {
        "execution": {
          "iopub.execute_input": "2021-08-29T15:12:17.106297Z",
          "iopub.status.busy": "2021-08-29T15:12:17.104387Z",
          "iopub.status.idle": "2021-08-29T15:12:17.107705Z",
          "shell.execute_reply": "2021-08-29T15:12:17.108332Z",
          "shell.execute_reply.started": "2021-08-17T15:58:41.515205Z"
        },
        "papermill": {
          "duration": 0.03644,
          "end_time": "2021-08-29T15:12:17.108472",
          "exception": false,
          "start_time": "2021-08-29T15:12:17.072032",
          "status": "completed"
        },
        "tags": [],
        "id": "ad1e0844"
      },
      "outputs": [],
      "source": [
        "class Discriminator(nn.Module):\n",
        "    def __init__(self, in_channels):\n",
        "        super(Discriminator, self).__init__()\n",
        "\n",
        "        self.model = nn.Sequential(\n",
        "            # why normalize=False?\n",
        "            *self.block(in_channels, 64, normalize=False), # 3*256*256 -> 64*128*128\n",
        "            *self.block(64, 128),  # 64*128*128 -> 128*64*64\n",
        "            *self.block(128, 256), # 128*64*64 -> 256*32*32\n",
        "            *self.block(256, 512), # 256*32*32 -> 512*16*16\n",
        "\n",
        "            # Why padding first then convolution?\n",
        "            nn.ZeroPad2d((1,0,1,0)), # padding left and top   512*16*16 -> 512*17*17\n",
        "            nn.Conv2d(512, 1, 4, padding=1) # 512*17*17 -> 1*16*16\n",
        "        )\n",
        "\n",
        "        self.scale_factor = 16\n",
        "\n",
        "    @staticmethod\n",
        "    def block(in_channels, out_channels, normalize=True):\n",
        "        layers = [nn.Conv2d(in_channels, out_channels, 4, stride=2, padding=1)]\n",
        "        if normalize:\n",
        "            layers.append(nn.InstanceNorm2d(out_channels))\n",
        "        layers.append(nn.LeakyReLU(0.2, inplace=True))\n",
        "\n",
        "        return layers\n",
        "\n",
        "    def forward(self, x):\n",
        "        return self.model(x)"
      ]
    },
    {
      "cell_type": "markdown",
      "id": "9b3ef24f",
      "metadata": {
        "execution": {
          "iopub.execute_input": "2021-08-17T03:15:37.92481Z",
          "iopub.status.busy": "2021-08-17T03:15:37.924281Z",
          "iopub.status.idle": "2021-08-17T03:15:38.24994Z",
          "shell.execute_reply": "2021-08-17T03:15:38.249301Z",
          "shell.execute_reply.started": "2021-08-17T03:15:37.924769Z"
        },
        "papermill": {
          "duration": 0.02228,
          "end_time": "2021-08-29T15:12:17.153331",
          "exception": false,
          "start_time": "2021-08-29T15:12:17.131051",
          "status": "completed"
        },
        "tags": [],
        "id": "9b3ef24f"
      },
      "source": [
        "## Step 3. Define Loss"
      ]
    },
    {
      "cell_type": "code",
      "execution_count": null,
      "id": "df1a969e",
      "metadata": {
        "execution": {
          "iopub.execute_input": "2021-08-29T15:12:17.204475Z",
          "iopub.status.busy": "2021-08-29T15:12:17.202292Z",
          "iopub.status.idle": "2021-08-29T15:12:17.205387Z",
          "shell.execute_reply": "2021-08-29T15:12:17.205909Z",
          "shell.execute_reply.started": "2021-08-17T15:58:41.527481Z"
        },
        "papermill": {
          "duration": 0.030672,
          "end_time": "2021-08-29T15:12:17.206061",
          "exception": false,
          "start_time": "2021-08-29T15:12:17.175389",
          "status": "completed"
        },
        "tags": [],
        "id": "df1a969e"
      },
      "outputs": [],
      "source": [
        "criterion_GAN = nn.MSELoss()\n",
        "criterion_cycle = nn.L1Loss()\n",
        "criterion_identity = nn.L1Loss()"
      ]
    },
    {
      "cell_type": "markdown",
      "id": "797ad9fd",
      "metadata": {
        "papermill": {
          "duration": 0.02357,
          "end_time": "2021-08-29T15:12:17.251311",
          "exception": false,
          "start_time": "2021-08-29T15:12:17.227741",
          "status": "completed"
        },
        "tags": [],
        "id": "797ad9fd"
      },
      "source": [
        "## Step 4. Initalize G and D"
      ]
    },
    {
      "cell_type": "code",
      "execution_count": null,
      "id": "37d6752a",
      "metadata": {
        "execution": {
          "iopub.execute_input": "2021-08-29T15:12:17.302993Z",
          "iopub.status.busy": "2021-08-29T15:12:17.302105Z",
          "iopub.status.idle": "2021-08-29T15:12:17.603467Z",
          "shell.execute_reply": "2021-08-29T15:12:17.604039Z",
          "shell.execute_reply.started": "2021-08-17T15:58:41.537974Z"
        },
        "papermill": {
          "duration": 0.329929,
          "end_time": "2021-08-29T15:12:17.604230",
          "exception": false,
          "start_time": "2021-08-29T15:12:17.274301",
          "status": "completed"
        },
        "tags": [],
        "id": "37d6752a"
      },
      "outputs": [],
      "source": [
        "G_AB = GeneratorResNet(3, num_residual_blocks=9)\n",
        "D_B = Discriminator(3)\n",
        "\n",
        "G_BA = GeneratorResNet(3, num_residual_blocks=9)\n",
        "D_A = Discriminator(3)"
      ]
    },
    {
      "cell_type": "code",
      "execution_count": null,
      "id": "08186b6c",
      "metadata": {
        "execution": {
          "iopub.execute_input": "2021-08-29T15:12:17.710628Z",
          "iopub.status.busy": "2021-08-29T15:12:17.707850Z",
          "iopub.status.idle": "2021-08-29T15:12:22.846095Z",
          "shell.execute_reply": "2021-08-29T15:12:22.845030Z",
          "shell.execute_reply.started": "2021-08-17T15:58:41.78764Z"
        },
        "papermill": {
          "duration": 5.216215,
          "end_time": "2021-08-29T15:12:22.846252",
          "exception": false,
          "start_time": "2021-08-29T15:12:17.630037",
          "status": "completed"
        },
        "tags": [],
        "colab": {
          "base_uri": "https://localhost:8080/"
        },
        "id": "08186b6c",
        "outputId": "0236d4de-5495-4bcd-f977-1c37e9fc42cf"
      },
      "outputs": [
        {
          "output_type": "stream",
          "name": "stdout",
          "text": [
            "cuda: True\n"
          ]
        }
      ],
      "source": [
        "cuda = torch.cuda.is_available()\n",
        "print(f'cuda: {cuda}')\n",
        "if cuda:\n",
        "    G_AB = G_AB.cuda()\n",
        "    D_B = D_B.cuda()\n",
        "    G_BA = G_BA.cuda()\n",
        "    D_A = D_A.cuda()\n",
        "\n",
        "    criterion_GAN = criterion_GAN.cuda()\n",
        "    criterion_cycle = criterion_cycle.cuda()\n",
        "    criterion_identity = criterion_identity.cuda()"
      ]
    },
    {
      "cell_type": "markdown",
      "id": "0486e93e",
      "metadata": {
        "execution": {
          "iopub.execute_input": "2021-08-17T03:20:13.704889Z",
          "iopub.status.busy": "2021-08-17T03:20:13.704545Z",
          "iopub.status.idle": "2021-08-17T03:20:13.710944Z",
          "shell.execute_reply": "2021-08-17T03:20:13.709978Z",
          "shell.execute_reply.started": "2021-08-17T03:20:13.704859Z"
        },
        "papermill": {
          "duration": 0.023127,
          "end_time": "2021-08-29T15:12:22.895340",
          "exception": false,
          "start_time": "2021-08-29T15:12:22.872213",
          "status": "completed"
        },
        "tags": [],
        "id": "0486e93e"
      },
      "source": [
        "## Step 5. Configure Optimizers"
      ]
    },
    {
      "cell_type": "code",
      "execution_count": null,
      "id": "1103039b",
      "metadata": {
        "execution": {
          "iopub.execute_input": "2021-08-29T15:12:22.952081Z",
          "iopub.status.busy": "2021-08-29T15:12:22.951032Z",
          "iopub.status.idle": "2021-08-29T15:12:22.953672Z",
          "shell.execute_reply": "2021-08-29T15:12:22.954369Z",
          "shell.execute_reply.started": "2021-08-17T15:58:46.086544Z"
        },
        "papermill": {
          "duration": 0.03627,
          "end_time": "2021-08-29T15:12:22.954526",
          "exception": false,
          "start_time": "2021-08-29T15:12:22.918256",
          "status": "completed"
        },
        "tags": [],
        "id": "1103039b"
      },
      "outputs": [],
      "source": [
        "import itertools\n",
        "lr = 0.0002\n",
        "b1 = 0.5\n",
        "b2 = 0.999\n",
        "\n",
        "optimizer_G = torch.optim.Adam(\n",
        "    itertools.chain(G_AB.parameters(), G_BA.parameters()), lr=lr, betas=(b1, b2)\n",
        ")\n",
        "\n",
        "optimizer_D_A = torch.optim.Adam(\n",
        "    D_A.parameters(), lr=lr, betas=(b1, b2)\n",
        ")\n",
        "\n",
        "optimizer_D_B = torch.optim.Adam(\n",
        "    D_B.parameters(), lr=lr, betas=(b1, b2)\n",
        ")"
      ]
    },
    {
      "cell_type": "markdown",
      "id": "5b0316ed",
      "metadata": {
        "execution": {
          "iopub.execute_input": "2021-08-17T03:26:53.389895Z",
          "iopub.status.busy": "2021-08-17T03:26:53.38953Z",
          "iopub.status.idle": "2021-08-17T03:26:53.409687Z",
          "shell.execute_reply": "2021-08-17T03:26:53.408743Z",
          "shell.execute_reply.started": "2021-08-17T03:26:53.389861Z"
        },
        "papermill": {
          "duration": 0.023677,
          "end_time": "2021-08-29T15:12:23.001299",
          "exception": false,
          "start_time": "2021-08-29T15:12:22.977622",
          "status": "completed"
        },
        "tags": [],
        "id": "5b0316ed"
      },
      "source": [
        "## Step 6. Learning Rate Scheduler Setting"
      ]
    },
    {
      "cell_type": "code",
      "execution_count": null,
      "id": "e7ac6953",
      "metadata": {
        "execution": {
          "iopub.execute_input": "2021-08-29T15:12:23.054515Z",
          "iopub.status.busy": "2021-08-29T15:12:23.053593Z",
          "iopub.status.idle": "2021-08-29T15:12:23.057146Z",
          "shell.execute_reply": "2021-08-29T15:12:23.056641Z",
          "shell.execute_reply.started": "2021-08-17T15:58:46.097831Z"
        },
        "papermill": {
          "duration": 0.032431,
          "end_time": "2021-08-29T15:12:23.057272",
          "exception": false,
          "start_time": "2021-08-29T15:12:23.024841",
          "status": "completed"
        },
        "tags": [],
        "id": "e7ac6953"
      },
      "outputs": [],
      "source": [
        "n_epoches = 100\n",
        "decay_epoch = 20\n",
        "\n",
        "lambda_func = lambda epoch: 1 - max(0, epoch-decay_epoch)/(n_epoches-decay_epoch)\n",
        "\n",
        "lr_scheduler_G = torch.optim.lr_scheduler.LambdaLR(optimizer_G, lr_lambda=lambda_func)\n",
        "lr_scheduler_D_A = torch.optim.lr_scheduler.LambdaLR(optimizer_D_A, lr_lambda=lambda_func)\n",
        "lr_scheduler_D_B = torch.optim.lr_scheduler.LambdaLR(optimizer_D_B, lr_lambda=lambda_func)"
      ]
    },
    {
      "cell_type": "markdown",
      "id": "77267f4c",
      "metadata": {
        "execution": {
          "iopub.execute_input": "2021-08-17T03:57:20.182081Z",
          "iopub.status.busy": "2021-08-17T03:57:20.181606Z",
          "iopub.status.idle": "2021-08-17T03:57:20.185286Z",
          "shell.execute_reply": "2021-08-17T03:57:20.184648Z",
          "shell.execute_reply.started": "2021-08-17T03:57:20.18205Z"
        },
        "papermill": {
          "duration": 0.022975,
          "end_time": "2021-08-29T15:12:23.103489",
          "exception": false,
          "start_time": "2021-08-29T15:12:23.080514",
          "status": "completed"
        },
        "tags": [],
        "id": "77267f4c"
      },
      "source": [
        "## Step 7. DataLoader"
      ]
    },
    {
      "cell_type": "code",
      "execution_count": null,
      "id": "1163a383",
      "metadata": {
        "execution": {
          "iopub.execute_input": "2021-08-29T15:12:23.161510Z",
          "iopub.status.busy": "2021-08-29T15:12:23.157886Z",
          "iopub.status.idle": "2021-08-29T15:12:23.164689Z",
          "shell.execute_reply": "2021-08-29T15:12:23.164034Z",
          "shell.execute_reply.started": "2021-08-17T15:58:46.112377Z"
        },
        "papermill": {
          "duration": 0.038316,
          "end_time": "2021-08-29T15:12:23.164898",
          "exception": false,
          "start_time": "2021-08-29T15:12:23.126582",
          "status": "completed"
        },
        "tags": [],
        "id": "1163a383"
      },
      "outputs": [],
      "source": [
        "from torch.utils.data import Dataset, DataLoader\n",
        "from PIL import Image\n",
        "\n",
        "class ImageDataset(Dataset):\n",
        "    def __init__(self, data_dir, mode='train', transforms=None, target_size=(128, 128)):\n",
        "        A_dir = os.path.join(data_dir, 'disease')\n",
        "        B_dir = os.path.join(data_dir, 'healthy')\n",
        "\n",
        "        if mode == 'train':\n",
        "            self.files_A = [os.path.join(A_dir, name) for name in sorted(os.listdir(A_dir))[:250]]\n",
        "            self.files_B = [os.path.join(B_dir, name) for name in sorted(os.listdir(B_dir))[:250]]\n",
        "        elif mode == 'test':\n",
        "            self.files_A = [os.path.join(A_dir, name) for name in sorted(os.listdir(A_dir))[250:]]\n",
        "            self.files_B = [os.path.join(B_dir, name) for name in sorted(os.listdir(B_dir))[250:301]]\n",
        "\n",
        "        self.transforms = transforms\n",
        "        self.target_size = target_size\n",
        "\n",
        "    def __len__(self):\n",
        "        return len(self.files_A)\n",
        "\n",
        "    def __getitem__(self, index):\n",
        "        file_A = self.files_A[index]\n",
        "        file_B = self.files_B[index]\n",
        "\n",
        "        img_A = Image.open(file_A).resize(self.target_size, Image.BICUBIC)\n",
        "        img_B = Image.open(file_B).resize(self.target_size, Image.BICUBIC)\n",
        "\n",
        "        if self.transforms is not None:\n",
        "            img_A = self.transforms(img_A)\n",
        "            img_B = self.transforms(img_B)\n",
        "\n",
        "        return img_A, img_B"
      ]
    },
    {
      "cell_type": "code",
      "execution_count": null,
      "id": "6c76af03",
      "metadata": {
        "execution": {
          "iopub.execute_input": "2021-08-29T15:12:23.217221Z",
          "iopub.status.busy": "2021-08-29T15:12:23.216449Z",
          "iopub.status.idle": "2021-08-29T15:12:23.810434Z",
          "shell.execute_reply": "2021-08-29T15:12:23.809234Z",
          "shell.execute_reply.started": "2021-08-17T15:58:46.127374Z"
        },
        "papermill": {
          "duration": 0.623158,
          "end_time": "2021-08-29T15:12:23.810581",
          "exception": false,
          "start_time": "2021-08-29T15:12:23.187423",
          "status": "completed"
        },
        "tags": [],
        "id": "6c76af03"
      },
      "outputs": [],
      "source": [
        "import torchvision.transforms as transforms\n",
        "\n",
        "data_dir = '/content/drive/MyDrive/느티나무 질병 데이터셋/train'\n",
        "\n",
        "transforms_ = transforms.Compose([\n",
        "    #transforms.Resize(int(256*1.12), Image.BICUBIC),\n",
        "    #transforms.RandomCrop(256, 256),\n",
        "    transforms.RandomHorizontalFlip(),\n",
        "    transforms.ToTensor(),\n",
        "    transforms.Normalize((0.5, 0.5, 0.5), (0.5, 0.5, 0.5))\n",
        "])\n",
        "batch_size = 5\n",
        "\n",
        "trainloader = DataLoader(\n",
        "    ImageDataset(data_dir, mode='train', transforms=transforms_),\n",
        "    batch_size = batch_size,\n",
        "    shuffle = True,\n",
        "    num_workers = 3\n",
        ")\n",
        "\n",
        "testloader = DataLoader(\n",
        "    ImageDataset(data_dir, mode='test', transforms=transforms_),\n",
        "    batch_size = batch_size,\n",
        "    shuffle = False,\n",
        "    num_workers = 3\n",
        ")"
      ]
    },
    {
      "cell_type": "markdown",
      "id": "a0a15834",
      "metadata": {
        "execution": {
          "iopub.execute_input": "2021-08-17T05:43:38.6353Z",
          "iopub.status.busy": "2021-08-17T05:43:38.634944Z",
          "iopub.status.idle": "2021-08-17T05:43:38.643016Z",
          "shell.execute_reply": "2021-08-17T05:43:38.641759Z",
          "shell.execute_reply.started": "2021-08-17T05:43:38.635271Z"
        },
        "papermill": {
          "duration": 0.023447,
          "end_time": "2021-08-29T15:12:23.858081",
          "exception": false,
          "start_time": "2021-08-29T15:12:23.834634",
          "status": "completed"
        },
        "tags": [],
        "id": "a0a15834"
      },
      "source": [
        "## Step 8. Sample images to show"
      ]
    },
    {
      "cell_type": "code",
      "execution_count": null,
      "id": "ec91fae9",
      "metadata": {
        "execution": {
          "iopub.execute_input": "2021-08-29T15:12:23.917641Z",
          "iopub.status.busy": "2021-08-29T15:12:23.916441Z",
          "iopub.status.idle": "2021-08-29T15:12:23.919259Z",
          "shell.execute_reply": "2021-08-29T15:12:23.919860Z",
          "shell.execute_reply.started": "2021-08-17T15:58:46.523334Z"
        },
        "papermill": {
          "duration": 0.038246,
          "end_time": "2021-08-29T15:12:23.920011",
          "exception": false,
          "start_time": "2021-08-29T15:12:23.881765",
          "status": "completed"
        },
        "tags": [],
        "id": "ec91fae9"
      },
      "outputs": [],
      "source": [
        "from torchvision.utils import make_grid\n",
        "\n",
        "Tensor = torch.cuda.FloatTensor if cuda else torch.Tensor\n",
        "\n",
        "def sample_images(real_A, real_B, figside=1.5):\n",
        "    assert real_A.size() == real_B.size(), 'The image size for two domains must be the same'\n",
        "\n",
        "    G_AB.eval()\n",
        "    G_BA.eval()\n",
        "\n",
        "    real_A = real_A.type(Tensor)\n",
        "    fake_B = G_AB(real_A).detach()\n",
        "    real_B = real_B.type(Tensor)\n",
        "    fake_A = G_BA(real_B).detach()\n",
        "\n",
        "    nrows = real_A.size(0)\n",
        "    real_A = make_grid(real_A, nrow=nrows, normalize=True)\n",
        "    fake_B = make_grid(fake_B, nrow=nrows, normalize=True)\n",
        "    real_B = make_grid(real_B, nrow=nrows, normalize=True)\n",
        "    fake_A = make_grid(fake_A, nrow=nrows, normalize=True)\n",
        "\n",
        "    image_grid = torch.cat((real_A, fake_B, real_B, fake_A), 1).cpu().permute(1, 2, 0)\n",
        "\n",
        "    plt.figure(figsize=(figside*nrows, figside*4))\n",
        "    plt.imshow(image_grid)\n",
        "    plt.axis('off')\n",
        "    plt.show()"
      ]
    },
    {
      "cell_type": "code",
      "source": [
        "for real_A, real_B in testloader:\n",
        "    sample_images(real_A, real_B)"
      ],
      "metadata": {
        "id": "X3ruxrbXxH-g"
      },
      "id": "X3ruxrbXxH-g",
      "execution_count": null,
      "outputs": []
    },
    {
      "cell_type": "markdown",
      "id": "365936da",
      "metadata": {
        "papermill": {
          "duration": 0.03104,
          "end_time": "2021-08-29T15:12:27.954327",
          "exception": false,
          "start_time": "2021-08-29T15:12:27.923287",
          "status": "completed"
        },
        "tags": [],
        "id": "365936da"
      },
      "source": [
        "## Step 9. Training"
      ]
    },
    {
      "cell_type": "code",
      "execution_count": null,
      "id": "c6c85b8f",
      "metadata": {
        "execution": {
          "iopub.execute_input": "2021-08-29T15:12:28.035360Z",
          "iopub.status.busy": "2021-08-29T15:12:28.033346Z",
          "iopub.status.idle": "2021-08-29T17:42:31.027919Z",
          "shell.execute_reply": "2021-08-29T17:42:31.027160Z",
          "shell.execute_reply.started": "2021-08-17T15:58:48.361047Z"
        },
        "papermill": {
          "duration": 9003.041788,
          "end_time": "2021-08-29T17:42:31.028060",
          "exception": false,
          "start_time": "2021-08-29T15:12:27.986272",
          "status": "completed"
        },
        "tags": [],
        "colab": {
          "base_uri": "https://localhost:8080/"
        },
        "id": "c6c85b8f",
        "outputId": "031086e3-199a-4bdd-f735-3ed2fc06ccb3"
      },
      "outputs": [
        {
          "output_type": "stream",
          "name": "stderr",
          "text": [
            "/usr/local/lib/python3.10/dist-packages/PIL/Image.py:3167: DecompressionBombWarning: Image size (127401984 pixels) exceeds limit of 89478485 pixels, could be decompression bomb DOS attack.\n",
            "  warnings.warn(\n"
          ]
        },
        {
          "output_type": "stream",
          "name": "stdout",
          "text": [
            "epoch:  0\n"
          ]
        },
        {
          "output_type": "stream",
          "name": "stderr",
          "text": [
            "/usr/local/lib/python3.10/dist-packages/PIL/Image.py:3167: DecompressionBombWarning: Image size (127401984 pixels) exceeds limit of 89478485 pixels, could be decompression bomb DOS attack.\n",
            "  warnings.warn(\n"
          ]
        },
        {
          "output_type": "stream",
          "name": "stdout",
          "text": [
            "epoch:  1\n"
          ]
        },
        {
          "output_type": "stream",
          "name": "stderr",
          "text": [
            "/usr/local/lib/python3.10/dist-packages/PIL/Image.py:3167: DecompressionBombWarning: Image size (127401984 pixels) exceeds limit of 89478485 pixels, could be decompression bomb DOS attack.\n",
            "  warnings.warn(\n"
          ]
        },
        {
          "output_type": "stream",
          "name": "stdout",
          "text": [
            "epoch:  2\n"
          ]
        },
        {
          "output_type": "stream",
          "name": "stderr",
          "text": [
            "/usr/local/lib/python3.10/dist-packages/PIL/Image.py:3167: DecompressionBombWarning: Image size (127401984 pixels) exceeds limit of 89478485 pixels, could be decompression bomb DOS attack.\n",
            "  warnings.warn(\n"
          ]
        },
        {
          "output_type": "stream",
          "name": "stdout",
          "text": [
            "epoch:  3\n"
          ]
        },
        {
          "output_type": "stream",
          "name": "stderr",
          "text": [
            "/usr/local/lib/python3.10/dist-packages/PIL/Image.py:3167: DecompressionBombWarning: Image size (127401984 pixels) exceeds limit of 89478485 pixels, could be decompression bomb DOS attack.\n",
            "  warnings.warn(\n"
          ]
        },
        {
          "output_type": "stream",
          "name": "stdout",
          "text": [
            "epoch:  4\n"
          ]
        },
        {
          "output_type": "stream",
          "name": "stderr",
          "text": [
            "/usr/local/lib/python3.10/dist-packages/PIL/Image.py:3167: DecompressionBombWarning: Image size (127401984 pixels) exceeds limit of 89478485 pixels, could be decompression bomb DOS attack.\n",
            "  warnings.warn(\n"
          ]
        },
        {
          "output_type": "stream",
          "name": "stdout",
          "text": [
            "epoch:  5\n"
          ]
        },
        {
          "output_type": "stream",
          "name": "stderr",
          "text": [
            "/usr/local/lib/python3.10/dist-packages/PIL/Image.py:3167: DecompressionBombWarning: Image size (127401984 pixels) exceeds limit of 89478485 pixels, could be decompression bomb DOS attack.\n",
            "  warnings.warn(\n"
          ]
        },
        {
          "output_type": "stream",
          "name": "stdout",
          "text": [
            "epoch:  6\n"
          ]
        },
        {
          "output_type": "stream",
          "name": "stderr",
          "text": [
            "/usr/local/lib/python3.10/dist-packages/PIL/Image.py:3167: DecompressionBombWarning: Image size (127401984 pixels) exceeds limit of 89478485 pixels, could be decompression bomb DOS attack.\n",
            "  warnings.warn(\n"
          ]
        },
        {
          "output_type": "stream",
          "name": "stdout",
          "text": [
            "epoch:  7\n"
          ]
        },
        {
          "output_type": "stream",
          "name": "stderr",
          "text": [
            "/usr/local/lib/python3.10/dist-packages/PIL/Image.py:3167: DecompressionBombWarning: Image size (127401984 pixels) exceeds limit of 89478485 pixels, could be decompression bomb DOS attack.\n",
            "  warnings.warn(\n"
          ]
        },
        {
          "output_type": "stream",
          "name": "stdout",
          "text": [
            "epoch:  8\n"
          ]
        },
        {
          "output_type": "stream",
          "name": "stderr",
          "text": [
            "/usr/local/lib/python3.10/dist-packages/PIL/Image.py:3167: DecompressionBombWarning: Image size (127401984 pixels) exceeds limit of 89478485 pixels, could be decompression bomb DOS attack.\n",
            "  warnings.warn(\n"
          ]
        },
        {
          "output_type": "stream",
          "name": "stdout",
          "text": [
            "epoch:  9\n",
            "[Epoch 10/100]\n",
            "[G loss: 3.692025661468506 | identity: 0.17378467321395874 GAN: 0.8497622013092041 cycle: 0.19733399152755737]\n",
            "[D loss: 0.06227627396583557 | D_A: 0.05561801418662071 D_B: 0.06893453001976013]\n"
          ]
        },
        {
          "output_type": "stream",
          "name": "stderr",
          "text": [
            "/usr/local/lib/python3.10/dist-packages/PIL/Image.py:3167: DecompressionBombWarning: Image size (127401984 pixels) exceeds limit of 89478485 pixels, could be decompression bomb DOS attack.\n",
            "  warnings.warn(\n"
          ]
        },
        {
          "output_type": "stream",
          "name": "stdout",
          "text": [
            "epoch:  10\n"
          ]
        },
        {
          "output_type": "stream",
          "name": "stderr",
          "text": [
            "/usr/local/lib/python3.10/dist-packages/PIL/Image.py:3167: DecompressionBombWarning: Image size (127401984 pixels) exceeds limit of 89478485 pixels, could be decompression bomb DOS attack.\n",
            "  warnings.warn(\n"
          ]
        },
        {
          "output_type": "stream",
          "name": "stdout",
          "text": [
            "epoch:  11\n"
          ]
        },
        {
          "output_type": "stream",
          "name": "stderr",
          "text": [
            "/usr/local/lib/python3.10/dist-packages/PIL/Image.py:3167: DecompressionBombWarning: Image size (127401984 pixels) exceeds limit of 89478485 pixels, could be decompression bomb DOS attack.\n",
            "  warnings.warn(\n"
          ]
        },
        {
          "output_type": "stream",
          "name": "stdout",
          "text": [
            "epoch:  12\n"
          ]
        },
        {
          "output_type": "stream",
          "name": "stderr",
          "text": [
            "/usr/local/lib/python3.10/dist-packages/PIL/Image.py:3167: DecompressionBombWarning: Image size (127401984 pixels) exceeds limit of 89478485 pixels, could be decompression bomb DOS attack.\n",
            "  warnings.warn(\n"
          ]
        },
        {
          "output_type": "stream",
          "name": "stdout",
          "text": [
            "epoch:  13\n"
          ]
        },
        {
          "output_type": "stream",
          "name": "stderr",
          "text": [
            "/usr/local/lib/python3.10/dist-packages/PIL/Image.py:3167: DecompressionBombWarning: Image size (127401984 pixels) exceeds limit of 89478485 pixels, could be decompression bomb DOS attack.\n",
            "  warnings.warn(\n"
          ]
        },
        {
          "output_type": "stream",
          "name": "stdout",
          "text": [
            "epoch:  14\n"
          ]
        },
        {
          "output_type": "stream",
          "name": "stderr",
          "text": [
            "/usr/local/lib/python3.10/dist-packages/PIL/Image.py:3167: DecompressionBombWarning: Image size (127401984 pixels) exceeds limit of 89478485 pixels, could be decompression bomb DOS attack.\n",
            "  warnings.warn(\n"
          ]
        },
        {
          "output_type": "stream",
          "name": "stdout",
          "text": [
            "epoch:  15\n"
          ]
        },
        {
          "output_type": "stream",
          "name": "stderr",
          "text": [
            "/usr/local/lib/python3.10/dist-packages/PIL/Image.py:3167: DecompressionBombWarning: Image size (127401984 pixels) exceeds limit of 89478485 pixels, could be decompression bomb DOS attack.\n",
            "  warnings.warn(\n"
          ]
        },
        {
          "output_type": "stream",
          "name": "stdout",
          "text": [
            "epoch:  16\n"
          ]
        },
        {
          "output_type": "stream",
          "name": "stderr",
          "text": [
            "/usr/local/lib/python3.10/dist-packages/PIL/Image.py:3167: DecompressionBombWarning: Image size (127401984 pixels) exceeds limit of 89478485 pixels, could be decompression bomb DOS attack.\n",
            "  warnings.warn(\n"
          ]
        },
        {
          "output_type": "stream",
          "name": "stdout",
          "text": [
            "epoch:  17\n"
          ]
        },
        {
          "output_type": "stream",
          "name": "stderr",
          "text": [
            "/usr/local/lib/python3.10/dist-packages/PIL/Image.py:3167: DecompressionBombWarning: Image size (127401984 pixels) exceeds limit of 89478485 pixels, could be decompression bomb DOS attack.\n",
            "  warnings.warn(\n"
          ]
        },
        {
          "output_type": "stream",
          "name": "stdout",
          "text": [
            "epoch:  18\n"
          ]
        },
        {
          "output_type": "stream",
          "name": "stderr",
          "text": [
            "/usr/local/lib/python3.10/dist-packages/PIL/Image.py:3167: DecompressionBombWarning: Image size (127401984 pixels) exceeds limit of 89478485 pixels, could be decompression bomb DOS attack.\n",
            "  warnings.warn(\n"
          ]
        },
        {
          "output_type": "stream",
          "name": "stdout",
          "text": [
            "epoch:  19\n",
            "[Epoch 20/100]\n",
            "[G loss: 2.9287009239196777 | identity: 0.1680774986743927 GAN: 0.5475013852119446 cycle: 0.15408119559288025]\n",
            "[D loss: 0.08888925611972809 | D_A: 0.09287631511688232 D_B: 0.08490218967199326]\n"
          ]
        }
      ],
      "source": [
        "for epoch in range(20):\n",
        "    for i, (real_A, real_B) in enumerate(trainloader):\n",
        "        real_A, real_B = real_A.type(Tensor), real_B.type(Tensor)\n",
        "\n",
        "        # groud truth\n",
        "        out_shape = [real_A.size(0), 1, real_A.size(2)//D_A.scale_factor, real_A.size(3)//D_A.scale_factor]\n",
        "        valid = torch.ones(out_shape).type(Tensor)\n",
        "        fake = torch.zeros(out_shape).type(Tensor)\n",
        "\n",
        "        \"\"\"Train Generators\"\"\"\n",
        "        # set to training mode in the begining, beacause sample_images will set it to eval mode\n",
        "        G_AB.train()\n",
        "        G_BA.train()\n",
        "\n",
        "        optimizer_G.zero_grad()\n",
        "\n",
        "        fake_B = G_AB(real_A)\n",
        "        fake_A = G_BA(real_B)\n",
        "\n",
        "        # identity loss\n",
        "        loss_id_A = criterion_identity(fake_B, real_A)\n",
        "        loss_id_B = criterion_identity(fake_A, real_B)\n",
        "        loss_identity = (loss_id_A + loss_id_B) / 2\n",
        "\n",
        "        # GAN loss, train G to make D think it's true\n",
        "        loss_GAN_AB = criterion_GAN(D_B(fake_B), valid)\n",
        "        loss_GAN_BA = criterion_GAN(D_A(fake_A), valid)\n",
        "        loss_GAN = (loss_GAN_AB + loss_GAN_BA) / 2\n",
        "\n",
        "        # cycle loss\n",
        "        recov_A = G_BA(fake_B)\n",
        "        recov_B = G_AB(fake_A)\n",
        "        loss_cycle_A = criterion_cycle(recov_A, real_A)\n",
        "        loss_cycle_B = criterion_cycle(recov_B, real_B)\n",
        "        loss_cycle = (loss_cycle_A + loss_cycle_B) / 2\n",
        "\n",
        "        # G totol loss\n",
        "        loss_G = 5.0*loss_identity + loss_GAN + 10.0*loss_cycle\n",
        "\n",
        "        loss_G.backward()\n",
        "        optimizer_G.step()\n",
        "\n",
        "        \"\"\"Train Discriminator A\"\"\"\n",
        "        optimizer_D_A.zero_grad()\n",
        "\n",
        "        loss_real = criterion_GAN(D_A(real_A), valid)\n",
        "        loss_fake = criterion_GAN(D_A(fake_A.detach()), fake)\n",
        "        loss_D_A = (loss_real + loss_fake) / 2\n",
        "\n",
        "        loss_D_A.backward()\n",
        "        optimizer_D_A.step()\n",
        "\n",
        "        \"\"\"Train Discriminator B\"\"\"\n",
        "        optimizer_D_B.zero_grad()\n",
        "\n",
        "        loss_real = criterion_GAN(D_B(real_B), valid)\n",
        "        loss_fake = criterion_GAN(D_B(fake_B.detach()), fake)\n",
        "        loss_D_B = (loss_real + loss_fake) / 2\n",
        "\n",
        "        loss_D_B.backward()\n",
        "        optimizer_D_B.step()\n",
        "\n",
        "    print(\"epoch: \", epoch)\n",
        "    lr_scheduler_G.step()\n",
        "    lr_scheduler_D_A.step()\n",
        "    lr_scheduler_D_B.step()\n",
        "\n",
        "    # test\n",
        "    if (epoch+1) % 10 == 0:\n",
        "        loss_D = (loss_D_A + loss_D_B) / 2\n",
        "        print(f'[Epoch {epoch+1}/{n_epoches}]')\n",
        "        print(f'[G loss: {loss_G.item()} | identity: {loss_identity.item()} GAN: {loss_GAN.item()} cycle: {loss_cycle.item()}]')\n",
        "        print(f'[D loss: {loss_D.item()} | D_A: {loss_D_A.item()} D_B: {loss_D_B.item()}]')"
      ]
    },
    {
      "cell_type": "markdown",
      "id": "f3427596",
      "metadata": {
        "papermill": {
          "duration": 0.114564,
          "end_time": "2021-08-29T17:42:31.252132",
          "exception": false,
          "start_time": "2021-08-29T17:42:31.137568",
          "status": "completed"
        },
        "tags": [],
        "id": "f3427596"
      },
      "source": [
        "## Step 10. Generate Images"
      ]
    },
    {
      "cell_type": "code",
      "execution_count": null,
      "id": "8d0c9cb3",
      "metadata": {
        "execution": {
          "iopub.execute_input": "2021-08-29T17:42:31.485237Z",
          "iopub.status.busy": "2021-08-29T17:42:31.484395Z",
          "iopub.status.idle": "2021-08-29T17:42:31.506906Z",
          "shell.execute_reply": "2021-08-29T17:42:31.507423Z",
          "shell.execute_reply.started": "2021-08-17T16:13:55.679748Z"
        },
        "papermill": {
          "duration": 0.140904,
          "end_time": "2021-08-29T17:42:31.507579",
          "exception": false,
          "start_time": "2021-08-29T17:42:31.366675",
          "status": "completed"
        },
        "tags": [],
        "colab": {
          "base_uri": "https://localhost:8080/"
        },
        "id": "8d0c9cb3",
        "outputId": "3febccb1-6f8d-4014-bd07-a97d898d1a7a"
      },
      "outputs": [
        {
          "output_type": "execute_result",
          "data": {
            "text/plain": [
              "365"
            ]
          },
          "metadata": {},
          "execution_count": 16
        }
      ],
      "source": [
        "photo_dir = os.path.join('/content/drive/MyDrive/느티나무2/train2/healthy')\n",
        "files = [os.path.join(photo_dir, name) for name in os.listdir(photo_dir)]\n",
        "len(files)"
      ]
    },
    {
      "cell_type": "code",
      "execution_count": null,
      "id": "a3605764",
      "metadata": {
        "execution": {
          "iopub.execute_input": "2021-08-29T17:42:31.738573Z",
          "iopub.status.busy": "2021-08-29T17:42:31.737923Z",
          "iopub.status.idle": "2021-08-29T17:42:31.742676Z",
          "shell.execute_reply": "2021-08-29T17:42:31.743219Z",
          "shell.execute_reply.started": "2021-08-17T16:13:55.703743Z"
        },
        "papermill": {
          "duration": 0.125847,
          "end_time": "2021-08-29T17:42:31.743356",
          "exception": false,
          "start_time": "2021-08-29T17:42:31.617509",
          "status": "completed"
        },
        "tags": [],
        "id": "a3605764"
      },
      "outputs": [],
      "source": [
        "save_dir = '/content/ma'\n",
        "if not os.path.exists(save_dir):\n",
        "    os.makedirs(save_dir)"
      ]
    },
    {
      "cell_type": "code",
      "source": [
        "generate_transforms = transforms.Compose([\n",
        "    transforms.ToTensor(),\n",
        "    transforms.Normalize((0.5, 0.5, 0.5), (0.5, 0.5, 0.5))\n",
        "])\n",
        "\n",
        "to_image = transforms.ToPILImage()\n",
        "\n",
        "G_BA.eval()\n",
        "for i in range(0, len(files), batch_size):\n",
        "    # read and resize images to a consistent size\n",
        "    imgs = []\n",
        "    for j in range(i, min(len(files), i+batch_size)):\n",
        "        img = Image.open(files[j]).resize((293, 147), Image.BICUBIC)\n",
        "        img = generate_transforms(img)\n",
        "        imgs.append(img)\n",
        "\n",
        "    # stack the resized images\n",
        "    imgs = torch.stack(imgs, 0).type(Tensor)\n",
        "\n",
        "    # generate\n",
        "    fake_imgs = G_BA(imgs).detach().cpu()\n",
        "\n",
        "    # save\n",
        "    for j in range(fake_imgs.size(0)):\n",
        "        fake_img = fake_imgs[j].squeeze().permute(1, 2, 0)\n",
        "\n",
        "        # Denormalize back to [0, 255]\n",
        "        fake_img = (fake_img * 0.5 + 0.5) * 255\n",
        "        fake_img = fake_img.numpy().astype(np.uint8)\n",
        "\n",
        "        img = to_image(fake_img)\n",
        "        _, name = os.path.split(files[i+j])\n",
        "        img.save(os.path.join(save_dir, name))\n"
      ],
      "metadata": {
        "id": "kT4nzgKsD-oE"
      },
      "id": "kT4nzgKsD-oE",
      "execution_count": null,
      "outputs": []
    },
    {
      "cell_type": "code",
      "execution_count": null,
      "id": "0b00685d",
      "metadata": {
        "execution": {
          "iopub.execute_input": "2021-08-29T17:46:51.950288Z",
          "iopub.status.busy": "2021-08-29T17:46:51.949260Z",
          "iopub.status.idle": "2021-08-29T17:46:56.094664Z",
          "shell.execute_reply": "2021-08-29T17:46:56.095203Z",
          "shell.execute_reply.started": "2021-08-17T16:18:14.671459Z"
        },
        "papermill": {
          "duration": 4.266243,
          "end_time": "2021-08-29T17:46:56.095364",
          "exception": false,
          "start_time": "2021-08-29T17:46:51.829121",
          "status": "completed"
        },
        "tags": [],
        "colab": {
          "base_uri": "https://localhost:8080/",
          "height": 36
        },
        "id": "0b00685d",
        "outputId": "18e0b27c-7705-40bb-9cbd-e013c6d62611"
      },
      "outputs": [
        {
          "output_type": "execute_result",
          "data": {
            "text/plain": [
              "'/content/ma.zip'"
            ],
            "application/vnd.google.colaboratory.intrinsic+json": {
              "type": "string"
            }
          },
          "metadata": {},
          "execution_count": 23
        }
      ],
      "source": [
        "import shutil\n",
        "\n",
        "# Replace \"/path/to/images\" with the actual path to your \"images\" directory\n",
        "source_directory = \"/content/ma\"\n",
        "\n",
        "# Specify the name for the zip file (e.g., \"images.zip\")\n",
        "zip_file_name = \"ma.zip\"\n",
        "\n",
        "# Create a zip archive of the \"images\" directory\n",
        "shutil.make_archive(zip_file_name.split(\".\")[0], 'zip', source_directory)"
      ]
    },
    {
      "cell_type": "code",
      "source": [],
      "metadata": {
        "id": "4SGt-EXc0qIk"
      },
      "id": "4SGt-EXc0qIk",
      "execution_count": null,
      "outputs": []
    }
  ],
  "metadata": {
    "kernelspec": {
      "display_name": "Python 3",
      "name": "python3"
    },
    "language_info": {
      "codemirror_mode": {
        "name": "ipython",
        "version": 3
      },
      "file_extension": ".py",
      "mimetype": "text/x-python",
      "name": "python",
      "nbconvert_exporter": "python",
      "pygments_lexer": "ipython3",
      "version": "3.7.10"
    },
    "papermill": {
      "default_parameters": {},
      "duration": 9291.681683,
      "end_time": "2021-08-29T17:46:57.805996",
      "environment_variables": {},
      "exception": null,
      "input_path": "__notebook__.ipynb",
      "output_path": "__notebook__.ipynb",
      "parameters": {},
      "start_time": "2021-08-29T15:12:06.124313",
      "version": "2.3.3"
    },
    "colab": {
      "provenance": [],
      "machine_shape": "hm",
      "gpuType": "V100"
    },
    "accelerator": "GPU"
  },
  "nbformat": 4,
  "nbformat_minor": 5
}