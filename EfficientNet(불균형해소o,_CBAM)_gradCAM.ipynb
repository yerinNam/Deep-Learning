{
  "cells": [
    {
      "cell_type": "markdown",
      "metadata": {
        "id": "QHjh2baVPl49"
      },
      "source": [
        "#구글 드라이브 마운트하여 구글 드라이브 사용"
      ]
    },
    {
      "cell_type": "code",
      "execution_count": null,
      "metadata": {
        "colab": {
          "base_uri": "https://localhost:8080/"
        },
        "id": "iJcBTCM5V6ty",
        "outputId": "ddf0c32f-d6ac-4047-f034-9d8712abe89f"
      },
      "outputs": [
        {
          "output_type": "stream",
          "name": "stdout",
          "text": [
            "Mounted at /content/drive\n"
          ]
        }
      ],
      "source": [
        "from google.colab import drive\n",
        "drive.mount('/content/drive', force_remount=True)\n"
      ]
    },
    {
      "cell_type": "code",
      "source": [
        "pip install --upgrade efficientnet-pytorch"
      ],
      "metadata": {
        "colab": {
          "base_uri": "https://localhost:8080/"
        },
        "id": "n9DKiM0bsnb9",
        "outputId": "ba0f566d-cf65-4f59-dde9-78c23ece28ad"
      },
      "execution_count": null,
      "outputs": [
        {
          "output_type": "stream",
          "name": "stdout",
          "text": [
            "Collecting efficientnet-pytorch\n",
            "  Downloading efficientnet_pytorch-0.7.1.tar.gz (21 kB)\n",
            "  Preparing metadata (setup.py) ... \u001b[?25l\u001b[?25hdone\n",
            "Requirement already satisfied: torch in /usr/local/lib/python3.10/dist-packages (from efficientnet-pytorch) (2.1.0+cu121)\n",
            "Requirement already satisfied: filelock in /usr/local/lib/python3.10/dist-packages (from torch->efficientnet-pytorch) (3.13.1)\n",
            "Requirement already satisfied: typing-extensions in /usr/local/lib/python3.10/dist-packages (from torch->efficientnet-pytorch) (4.5.0)\n",
            "Requirement already satisfied: sympy in /usr/local/lib/python3.10/dist-packages (from torch->efficientnet-pytorch) (1.12)\n",
            "Requirement already satisfied: networkx in /usr/local/lib/python3.10/dist-packages (from torch->efficientnet-pytorch) (3.2.1)\n",
            "Requirement already satisfied: jinja2 in /usr/local/lib/python3.10/dist-packages (from torch->efficientnet-pytorch) (3.1.2)\n",
            "Requirement already satisfied: fsspec in /usr/local/lib/python3.10/dist-packages (from torch->efficientnet-pytorch) (2023.6.0)\n",
            "Requirement already satisfied: triton==2.1.0 in /usr/local/lib/python3.10/dist-packages (from torch->efficientnet-pytorch) (2.1.0)\n",
            "Requirement already satisfied: MarkupSafe>=2.0 in /usr/local/lib/python3.10/dist-packages (from jinja2->torch->efficientnet-pytorch) (2.1.3)\n",
            "Requirement already satisfied: mpmath>=0.19 in /usr/local/lib/python3.10/dist-packages (from sympy->torch->efficientnet-pytorch) (1.3.0)\n",
            "Building wheels for collected packages: efficientnet-pytorch\n",
            "  Building wheel for efficientnet-pytorch (setup.py) ... \u001b[?25l\u001b[?25hdone\n",
            "  Created wheel for efficientnet-pytorch: filename=efficientnet_pytorch-0.7.1-py3-none-any.whl size=16428 sha256=97853a79be49357b0e4f0b260d98e7783f773fef403bf570ab51cf71eaa7cfbe\n",
            "  Stored in directory: /root/.cache/pip/wheels/03/3f/e9/911b1bc46869644912bda90a56bcf7b960f20b5187feea3baf\n",
            "Successfully built efficientnet-pytorch\n",
            "Installing collected packages: efficientnet-pytorch\n",
            "Successfully installed efficientnet-pytorch-0.7.1\n"
          ]
        }
      ]
    },
    {
      "cell_type": "markdown",
      "source": [
        "#데이터 전처리"
      ],
      "metadata": {
        "id": "v3iuP-tOlekz"
      }
    },
    {
      "cell_type": "code",
      "source": [
        "import torch\n",
        "import matplotlib.pyplot as plt\n",
        "import numpy as np\n",
        "import torch\n",
        "import torch.nn as nn # 인공 신경망 모델들 모아놓은 모듈\n",
        "import torch.nn.functional as F #그중 자주 쓰이는것들을 F로\n",
        "from torchvision import transforms, datasets\n",
        "import cv2\n",
        "import pandas as pd\n",
        "import os\n",
        "from glob import glob\n",
        "import torchvision.models as models\n",
        "import sys\n",
        "import librosa, librosa.display\n",
        "#from pytorchtools import EarlyStopping\n",
        "from torch.utils.data import random_split, DataLoader\n",
        "from torchvision.datasets import ImageFolder\n",
        "from sklearn.model_selection import train_test_split\n",
        "\n",
        "\n",
        "if torch.cuda.is_available():\n",
        "    DEVICE = torch.device('cuda')\n",
        "else:\n",
        "    DEVICE = torch.device('cpu')\n",
        "#DEVICE = torch.device('cpu')\n",
        "print('Using Pytorch version : ',torch.__version__,' Device : ',DEVICE)\n",
        "\n",
        "#3. 하이퍼 파라미터\n",
        "BATCH_SIZE =  16 #한 배치당 16개 이미지데이터\n",
        "EPOCHS = 20 # 전체 데이터 셋을 20번 반복"
      ],
      "metadata": {
        "id": "DiZv_PAYleRa",
        "colab": {
          "base_uri": "https://localhost:8080/"
        },
        "outputId": "3d8b28cc-a2fd-43ae-c982-c5a9ff181816"
      },
      "execution_count": null,
      "outputs": [
        {
          "output_type": "stream",
          "name": "stdout",
          "text": [
            "Using Pytorch version :  2.1.0+cu121  Device :  cuda\n"
          ]
        }
      ]
    },
    {
      "cell_type": "code",
      "source": [
        "train_data_dir= '/content/drive/MyDrive/느티나무 질병 데이터셋/train2' #클래스 불균형 해소시킨 데이터셋 새로 만들어서 train에 이용함\n",
        "# Create the ImageFolder dataset\n",
        "transform = transforms.Compose([\n",
        "    transforms.RandomResizedCrop(224, scale=(0.8, 1.0)),\n",
        "    transforms.RandomHorizontalFlip(),\n",
        "    transforms.RandomRotation(degrees=(-25, 25)),\n",
        "    #transforms.ColorJitter(brightness=0.6, contrast=0.2, saturation=0.2, hue=0.2),\n",
        "    transforms.ToTensor(),\n",
        "    transforms.Normalize((0.5,0.5,0.5),(0.5,0.5,0.5))\n",
        "])\n",
        "dataset = ImageFolder(root=train_data_dir, transform=transform)"
      ],
      "metadata": {
        "id": "fy0-2uXFlotm"
      },
      "execution_count": null,
      "outputs": []
    },
    {
      "cell_type": "markdown",
      "metadata": {
        "id": "tjyMm8cePuf8"
      },
      "source": [
        "#모델"
      ]
    },
    {
      "cell_type": "code",
      "source": [
        "# 일단 이거로 해보기(freeze를 안 하고, 전체적으로 다 fine tuning함)\n",
        "# freeze를 하면 기존모델(efficientnet)의 pretrained 부분을 그대로 가져오는 거\n",
        "# freeze 안 하고 전체적으로 fine tuning해도 feature extract부분이 우리 task에 맞게 조정되고, 마지막 layer도 우리 task에 맞게 조정됨\n",
        "import torch.nn as nn\n",
        "import torch\n",
        "from efficientnet_pytorch import EfficientNet\n",
        "\n",
        "class ChannelAttentionModule(nn.Module):\n",
        "    def __init__(self, channel, ratio=16):\n",
        "        super(ChannelAttentionModule, self).__init__()\n",
        "        self.avg_pool = nn.AdaptiveAvgPool2d(1)\n",
        "        self.max_pool = nn.AdaptiveMaxPool2d(1)\n",
        "\n",
        "        self.shared_MLP = nn.Sequential(\n",
        "            nn.Conv2d(channel, channel // ratio, 1, bias=False),\n",
        "            nn.ReLU(),\n",
        "            nn.Conv2d(channel // ratio, channel, 1, bias=False)\n",
        "        )\n",
        "        self.sigmoid = nn.Sigmoid()\n",
        "\n",
        "    def forward(self, x):\n",
        "        avgout = self.shared_MLP(self.avg_pool(x))\n",
        "        maxout = self.shared_MLP(self.max_pool(x))\n",
        "        return self.sigmoid(avgout + maxout)\n",
        "\n",
        "class SpatialAttentionModule(nn.Module):\n",
        "    def __init__(self):\n",
        "        super(SpatialAttentionModule, self).__init__()\n",
        "        self.conv2d = nn.Conv2d(in_channels=2, out_channels=1, kernel_size=7, stride=1, padding=3)\n",
        "        self.sigmoid = nn.Sigmoid()\n",
        "\n",
        "    def forward(self, x):\n",
        "        avgout = torch.mean(x, dim=1, keepdim=True)\n",
        "        maxout, _ = torch.max(x, dim=1, keepdim=True)\n",
        "        out = torch.cat([avgout, maxout], dim=1)\n",
        "        out = self.sigmoid(self.conv2d(out))\n",
        "        return out\n",
        "\n",
        "class CBAM(nn.Module):\n",
        "    def __init__(self, channel):\n",
        "        super(CBAM, self).__init__()\n",
        "        self.channel_attention = ChannelAttentionModule(channel)\n",
        "        self.spatial_attention = SpatialAttentionModule()\n",
        "\n",
        "    def forward(self, x):\n",
        "        out = self.channel_attention(x) * x\n",
        "        out = self.spatial_attention(out) * out\n",
        "        return out\n",
        "\n",
        "class ResBlock_CBAM(nn.Module):\n",
        "    def __init__(self,in_places, places, stride=1,downsampling=False, expansion = 4):\n",
        "        super(ResBlock_CBAM,self).__init__()\n",
        "        self.expansion = expansion\n",
        "        self.downsampling = downsampling\n",
        "\n",
        "        self.bottleneck = nn.Sequential(\n",
        "            nn.Conv2d(in_channels=in_places,out_channels=places,kernel_size=1,stride=1, bias=False),\n",
        "            nn.BatchNorm2d(places),\n",
        "            nn.ReLU(inplace=True),\n",
        "            nn.Conv2d(in_channels=places, out_channels=places, kernel_size=3, stride=stride, padding=1, bias=False),\n",
        "            nn.BatchNorm2d(places),\n",
        "            nn.ReLU(inplace=True),\n",
        "            nn.Conv2d(in_channels=places, out_channels=places*self.expansion, kernel_size=1, stride=1, bias=False),\n",
        "            nn.BatchNorm2d(places*self.expansion),\n",
        "        )\n",
        "        self.cbam = CBAM(channel=places*self.expansion)\n",
        "\n",
        "        if self.downsampling:\n",
        "            self.downsample = nn.Sequential(\n",
        "                nn.Conv2d(in_channels=in_places, out_channels=places*self.expansion, kernel_size=1, stride=stride, bias=False),\n",
        "                nn.BatchNorm2d(places*self.expansion)\n",
        "            )\n",
        "        self.relu = nn.ReLU(inplace=True)\n",
        "\n",
        "    def forward(self, x):\n",
        "        residual = x\n",
        "        out = self.bottleneck(x)\n",
        "        out = self.cbam(out)\n",
        "        if self.downsampling:\n",
        "            residual = self.downsample(x)\n",
        "\n",
        "        out += residual\n",
        "        out = self.relu(out)\n",
        "        return out\n",
        "\n",
        "class CBAM_efficientnet(nn.Module):\n",
        "    \"\"\"\n",
        "    Simple transfer learning model that takes an imagenet pretrained model with\n",
        "    a fc layer as base model and retrains a new fc layer for num_out_classes\n",
        "    \"\"\"\n",
        "    def __init__(self, model_name='efficientnet-b0', num_classes=2):\n",
        "        super(CBAM_efficientnet, self).__init__()\n",
        "        self.base = EfficientNet.from_pretrained(model_name)\n",
        "        # net = EfficientNet.from_name(model_name)\n",
        "        in_features = self.base._fc.in_features\n",
        "        self.cbam = CBAM(channel=in_features)\n",
        "        self.avg_pool = nn.AdaptiveAvgPool2d(1)\n",
        "        self.clf = nn.Sequential(nn.BatchNorm1d(in_features),\n",
        "                                 nn.Linear(in_features=in_features, out_features=num_classes, bias=True))\n",
        "\n",
        "    def forward(self, x):\n",
        "        x = self.base.extract_features(x)\n",
        "        x = self.cbam(x)\n",
        "        x = self.avg_pool(x)\n",
        "        x = x.view(x.size(0), -1)  # flatten to (bs, 2048)\n",
        "        x = self.clf(x)\n",
        "\n",
        "        return x\n",
        "\n",
        "    def extract_features(self, x):\n",
        "        x = self.base.extract_features(x)\n",
        "        x = self.cbam(x)\n",
        "\n",
        "        return x\n",
        "\n",
        "# 모델 생성\n",
        "model = CBAM_efficientnet('efficientnet-b7', num_classes=2)\n",
        "model.to(device)"
      ],
      "metadata": {
        "id": "DNTbTQ0IG0_G",
        "colab": {
          "base_uri": "https://localhost:8080/"
        },
        "outputId": "7cb90fc7-7584-4773-88c0-36c40278fce8"
      },
      "execution_count": null,
      "outputs": [
        {
          "output_type": "stream",
          "name": "stdout",
          "text": [
            "Loaded pretrained weights for efficientnet-b7\n"
          ]
        }
      ]
    },
    {
      "cell_type": "code",
      "execution_count": null,
      "metadata": {
        "id": "RI1C3IaqegWa"
      },
      "outputs": [],
      "source": [
        "import torch.optim as optim\n",
        "from torch.optim.lr_scheduler import StepLR\n",
        "from torch.optim.lr_scheduler import MultiStepLR\n",
        "from torch.optim.lr_scheduler import LambdaLR\n",
        "\n",
        "lr = 0.0001\n",
        "\n",
        "#클래스 불균형 해소\n",
        "num_ins = [365, 378]\n",
        "weights = [1 - (x/sum(num_ins)) for x in num_ins]\n",
        "class_weights = torch.FloatTensor(weights).to(DEVICE)\n",
        "\n",
        "criterion = nn.CrossEntropyLoss()\n",
        "optimizer = torch.optim.Adam(model.parameters(),lr=0.0001, weight_decay=1e-5)\n",
        "scheduler = StepLR(optimizer, step_size=20, gamma=0.5)\n"
      ]
    },
    {
      "cell_type": "code",
      "execution_count": null,
      "metadata": {
        "id": "m7JtG226WP_U"
      },
      "outputs": [],
      "source": [
        "#8. 학습\n",
        "def train(model,train_loader,optimizer, log_interval):\n",
        "    model.train()\n",
        "    correct = 0\n",
        "    train_loss = 0\n",
        "    for batch_idx,(image,label) in enumerate(train_loader):\n",
        "        image = image.to(DEVICE)\n",
        "        label = label.to(DEVICE)\n",
        "        #데이터들 장비에 할당\n",
        "        optimizer.zero_grad() # device 에 저장된 gradient 제거\n",
        "        output = model(image) # model로 output을 계산\n",
        "        loss = criterion(output, label) #loss 계산\n",
        "        train_loss += loss.item()\n",
        "        prediction = output.max(1,keepdim=True)[1] # 가장 확률이 높은 class 1개를 가져온다.그리고 인덱스만\n",
        "        correct += prediction.eq(label.view_as(prediction)).sum().item()# 아웃풋이 배치 사이즈 32개라서.\n",
        "        loss.backward() # loss 값을 이용해 gradient를 계산\n",
        "        optimizer.step() # Gradient 값을 이용해 파라미터 업데이트.\n",
        "    train_loss/=len(train_loader.dataset)\n",
        "    train_accuracy = 100. * correct / len(train_loader.dataset)\n",
        "    return train_loss,train_accuracy"
      ]
    },
    {
      "cell_type": "code",
      "execution_count": null,
      "metadata": {
        "id": "NstYI8s1yPPl"
      },
      "outputs": [],
      "source": [
        "#9. 학습 진행하며, validation 데이터로 모델 성능확인\n",
        "def evaluate(model,valid_loader):\n",
        "    model.eval()\n",
        "    misclassified_images = []\n",
        "    valid_loss = 0\n",
        "    correct = 0\n",
        "    #no_grad : 그래디언트 값 계산 막기.\n",
        "    with torch.no_grad():\n",
        "        for image, label in valid_loader:\n",
        "            image = image.to(DEVICE)\n",
        "            label = label.to(DEVICE)\n",
        "            output = model(image)\n",
        "            valid_loss += criterion(output, label).item()\n",
        "            prediction = output.max(1,keepdim=True)[1] # 가장 확률이 높은 class 1개를 가져온다.그리고 인덱스만\n",
        "            correct += prediction.eq(label.view_as(prediction)).sum().item()# 아웃풋이 배치 사이즈 32개라서.\n",
        "                        # Check for misclassified images\n",
        "            for i in range(label.size(0)):\n",
        "                if prediction[i] != label[i]:\n",
        "                    misclassified_images.append((image[i], prediction[i], label[i]))\n",
        "\n",
        "            #true.false값을 sum해줌. item\n",
        "        valid_loss /= len(valid_loader.dataset)\n",
        "        valid_accuracy = 100. * correct / len(valid_loader.dataset)\n",
        "        return valid_loss, valid_accuracy, misclassified_images"
      ]
    },
    {
      "cell_type": "code",
      "execution_count": null,
      "metadata": {
        "id": "QBWx_9xa-qSC"
      },
      "outputs": [],
      "source": [
        "import torch, gc\n",
        "gc.collect()\n",
        "torch.cuda.empty_cache()"
      ]
    },
    {
      "cell_type": "code",
      "execution_count": null,
      "metadata": {
        "id": "aj2QAFFDMSnx",
        "colab": {
          "base_uri": "https://localhost:8080/"
        },
        "outputId": "0735b9d2-6ef8-4288-910d-228a17017400"
      },
      "outputs": [
        {
          "output_type": "stream",
          "name": "stdout",
          "text": [
            "Requirement already satisfied: wandb in /usr/local/lib/python3.10/dist-packages (0.16.1)\n",
            "Requirement already satisfied: Click!=8.0.0,>=7.1 in /usr/local/lib/python3.10/dist-packages (from wandb) (8.1.7)\n",
            "Requirement already satisfied: GitPython!=3.1.29,>=1.0.0 in /usr/local/lib/python3.10/dist-packages (from wandb) (3.1.40)\n",
            "Requirement already satisfied: requests<3,>=2.0.0 in /usr/local/lib/python3.10/dist-packages (from wandb) (2.31.0)\n",
            "Requirement already satisfied: psutil>=5.0.0 in /usr/local/lib/python3.10/dist-packages (from wandb) (5.9.5)\n",
            "Requirement already satisfied: sentry-sdk>=1.0.0 in /usr/local/lib/python3.10/dist-packages (from wandb) (1.39.1)\n",
            "Requirement already satisfied: docker-pycreds>=0.4.0 in /usr/local/lib/python3.10/dist-packages (from wandb) (0.4.0)\n",
            "Requirement already satisfied: PyYAML in /usr/local/lib/python3.10/dist-packages (from wandb) (6.0.1)\n",
            "Requirement already satisfied: setproctitle in /usr/local/lib/python3.10/dist-packages (from wandb) (1.3.3)\n",
            "Requirement already satisfied: setuptools in /usr/local/lib/python3.10/dist-packages (from wandb) (67.7.2)\n",
            "Requirement already satisfied: appdirs>=1.4.3 in /usr/local/lib/python3.10/dist-packages (from wandb) (1.4.4)\n",
            "Requirement already satisfied: protobuf!=4.21.0,<5,>=3.19.0 in /usr/local/lib/python3.10/dist-packages (from wandb) (3.20.3)\n",
            "Requirement already satisfied: six>=1.4.0 in /usr/local/lib/python3.10/dist-packages (from docker-pycreds>=0.4.0->wandb) (1.16.0)\n",
            "Requirement already satisfied: gitdb<5,>=4.0.1 in /usr/local/lib/python3.10/dist-packages (from GitPython!=3.1.29,>=1.0.0->wandb) (4.0.11)\n",
            "Requirement already satisfied: charset-normalizer<4,>=2 in /usr/local/lib/python3.10/dist-packages (from requests<3,>=2.0.0->wandb) (3.3.2)\n",
            "Requirement already satisfied: idna<4,>=2.5 in /usr/local/lib/python3.10/dist-packages (from requests<3,>=2.0.0->wandb) (3.6)\n",
            "Requirement already satisfied: urllib3<3,>=1.21.1 in /usr/local/lib/python3.10/dist-packages (from requests<3,>=2.0.0->wandb) (2.0.7)\n",
            "Requirement already satisfied: certifi>=2017.4.17 in /usr/local/lib/python3.10/dist-packages (from requests<3,>=2.0.0->wandb) (2023.11.17)\n",
            "Requirement already satisfied: smmap<6,>=3.0.1 in /usr/local/lib/python3.10/dist-packages (from gitdb<5,>=4.0.1->GitPython!=3.1.29,>=1.0.0->wandb) (5.0.1)\n"
          ]
        }
      ],
      "source": [
        "!pip install wandb"
      ]
    },
    {
      "cell_type": "code",
      "execution_count": null,
      "metadata": {
        "colab": {
          "base_uri": "https://localhost:8080/"
        },
        "id": "LWHOq62pMV1F",
        "outputId": "0cfba941-b7a6-4a0d-deb8-103091fcf1cc"
      },
      "outputs": [
        {
          "output_type": "stream",
          "name": "stdout",
          "text": [
            "\u001b[34m\u001b[1mwandb\u001b[0m: Currently logged in as: \u001b[33miuapink0522\u001b[0m. Use \u001b[1m`wandb login --relogin`\u001b[0m to force relogin\n"
          ]
        }
      ],
      "source": [
        "!wandb login # 유진 : 6080be9f8ad8214dd6df2c097cb6657f599101c3\n",
        "#예린이꺼 : 2760afae3cddc39355fd83d56a601147e18e1acf"
      ]
    },
    {
      "cell_type": "code",
      "source": [
        "!wandb login --relogin"
      ],
      "metadata": {
        "colab": {
          "base_uri": "https://localhost:8080/"
        },
        "id": "G8eIuAQYEjMj",
        "outputId": "d8c29240-aa7d-48db-bb86-a8f825fb56da"
      },
      "execution_count": null,
      "outputs": [
        {
          "output_type": "stream",
          "name": "stdout",
          "text": [
            "\u001b[34m\u001b[1mwandb\u001b[0m: Logging into wandb.ai. (Learn how to deploy a W&B server locally: https://wandb.me/wandb-server)\n",
            "\u001b[34m\u001b[1mwandb\u001b[0m: You can find your API key in your browser here: https://wandb.ai/authorize\n",
            "\u001b[34m\u001b[1mwandb\u001b[0m: Paste an API key from your profile and hit enter, or press ctrl+c to quit: \n",
            "\u001b[34m\u001b[1mwandb\u001b[0m: Appending key for api.wandb.ai to your netrc file: /root/.netrc\n"
          ]
        }
      ]
    },
    {
      "cell_type": "code",
      "execution_count": null,
      "metadata": {
        "colab": {
          "base_uri": "https://localhost:8080/",
          "height": 173
        },
        "id": "SQk7kQaRMbeq",
        "outputId": "a1f0d556-0059-4205-c970-d29d85026e6a"
      },
      "outputs": [
        {
          "output_type": "stream",
          "name": "stderr",
          "text": [
            "\u001b[34m\u001b[1mwandb\u001b[0m: Currently logged in as: \u001b[33miuapink0522\u001b[0m. Use \u001b[1m`wandb login --relogin`\u001b[0m to force relogin\n"
          ]
        },
        {
          "output_type": "display_data",
          "data": {
            "text/plain": [
              "<IPython.core.display.HTML object>"
            ],
            "text/html": [
              "Tracking run with wandb version 0.16.1"
            ]
          },
          "metadata": {}
        },
        {
          "output_type": "display_data",
          "data": {
            "text/plain": [
              "<IPython.core.display.HTML object>"
            ],
            "text/html": [
              "Run data is saved locally in <code>/content/wandb/run-20231215_120005-hy44uq1r</code>"
            ]
          },
          "metadata": {}
        },
        {
          "output_type": "display_data",
          "data": {
            "text/plain": [
              "<IPython.core.display.HTML object>"
            ],
            "text/html": [
              "Syncing run <strong><a href='https://wandb.ai/iuapink0522/Plant2/runs/hy44uq1r' target=\"_blank\">electric-pyramid-12</a></strong> to <a href='https://wandb.ai/iuapink0522/Plant2' target=\"_blank\">Weights & Biases</a> (<a href='https://wandb.me/run' target=\"_blank\">docs</a>)<br/>"
            ]
          },
          "metadata": {}
        },
        {
          "output_type": "display_data",
          "data": {
            "text/plain": [
              "<IPython.core.display.HTML object>"
            ],
            "text/html": [
              " View project at <a href='https://wandb.ai/iuapink0522/Plant2' target=\"_blank\">https://wandb.ai/iuapink0522/Plant2</a>"
            ]
          },
          "metadata": {}
        },
        {
          "output_type": "display_data",
          "data": {
            "text/plain": [
              "<IPython.core.display.HTML object>"
            ],
            "text/html": [
              " View run at <a href='https://wandb.ai/iuapink0522/Plant2/runs/hy44uq1r' target=\"_blank\">https://wandb.ai/iuapink0522/Plant2/runs/hy44uq1r</a>"
            ]
          },
          "metadata": {}
        },
        {
          "output_type": "stream",
          "name": "stderr",
          "text": [
            "\u001b[34m\u001b[1mwandb\u001b[0m: \u001b[33mWARNING\u001b[0m Calling wandb.run.save without any arguments is deprecated.Changes to attributes are automatically persisted.\n"
          ]
        },
        {
          "output_type": "execute_result",
          "data": {
            "text/plain": [
              "True"
            ]
          },
          "metadata": {},
          "execution_count": 17
        }
      ],
      "source": [
        "import wandb\n",
        "wandb.init(project='Plant2')\n",
        "\n",
        "# 실행 이름 설정\n",
        "wandb.run.name = 'EfficientNet-b7_pretrainedO_DataAug_불균형해소o'\n",
        "wandb.run.save()"
      ]
    },
    {
      "cell_type": "code",
      "execution_count": null,
      "metadata": {
        "id": "7haOzGlwM7nr"
      },
      "outputs": [],
      "source": [
        "args = {\n",
        "    \"learning_rate\": lr,\n",
        "    \"epochs\": EPOCHS,\n",
        "    \"batch_size\": BATCH_SIZE\n",
        "}\n",
        "wandb.config.update(args)"
      ]
    },
    {
      "cell_type": "code",
      "execution_count": null,
      "metadata": {
        "colab": {
          "base_uri": "https://localhost:8080/"
        },
        "id": "Im3Z53nLj5dQ",
        "outputId": "850c5660-a099-4171-d092-aca6c2d7ae4d"
      },
      "outputs": [
        {
          "output_type": "stream",
          "name": "stderr",
          "text": [
            "/usr/local/lib/python3.10/dist-packages/PIL/Image.py:3167: DecompressionBombWarning: Image size (127401984 pixels) exceeds limit of 89478485 pixels, could be decompression bomb DOS attack.\n",
            "  warnings.warn(\n",
            "/usr/local/lib/python3.10/dist-packages/PIL/Image.py:3167: DecompressionBombWarning: Image size (113246208 pixels) exceeds limit of 89478485 pixels, could be decompression bomb DOS attack.\n",
            "  warnings.warn(\n"
          ]
        },
        {
          "output_type": "stream",
          "name": "stdout",
          "text": [
            "\n",
            "[Fold 0][EPOCH:1]\t Train Loss:0.0330\t Train Acc:79.12 %  | \tValid Loss:0.0306 \tValid Acc: 73.15 %\n",
            "\n"
          ]
        },
        {
          "output_type": "stream",
          "name": "stderr",
          "text": [
            "/usr/local/lib/python3.10/dist-packages/PIL/Image.py:3167: DecompressionBombWarning: Image size (102411238 pixels) exceeds limit of 89478485 pixels, could be decompression bomb DOS attack.\n",
            "  warnings.warn(\n",
            "/usr/local/lib/python3.10/dist-packages/PIL/Image.py:3167: DecompressionBombWarning: Image size (110258449 pixels) exceeds limit of 89478485 pixels, could be decompression bomb DOS attack.\n",
            "  warnings.warn(\n"
          ]
        },
        {
          "output_type": "stream",
          "name": "stdout",
          "text": [
            "\n",
            "[Fold 0][EPOCH:2]\t Train Loss:0.0103\t Train Acc:95.96 %  | \tValid Loss:0.0123 \tValid Acc: 92.62 %\n",
            "\n"
          ]
        },
        {
          "output_type": "stream",
          "name": "stderr",
          "text": [
            "/usr/local/lib/python3.10/dist-packages/PIL/Image.py:3167: DecompressionBombWarning: Image size (106213668 pixels) exceeds limit of 89478485 pixels, could be decompression bomb DOS attack.\n",
            "  warnings.warn(\n"
          ]
        },
        {
          "output_type": "stream",
          "name": "stdout",
          "text": [
            "\n",
            "[Fold 0][EPOCH:3]\t Train Loss:0.0064\t Train Acc:97.64 %  | \tValid Loss:0.0047 \tValid Acc: 97.32 %\n",
            "\n",
            "\n",
            "[Fold 0][EPOCH:4]\t Train Loss:0.0066\t Train Acc:97.98 %  | \tValid Loss:0.0038 \tValid Acc: 97.99 %\n",
            "\n",
            "\n",
            "[Fold 0][EPOCH:5]\t Train Loss:0.0026\t Train Acc:98.82 %  | \tValid Loss:0.0030 \tValid Acc: 97.99 %\n",
            "\n",
            "\n",
            "[Fold 0][EPOCH:6]\t Train Loss:0.0014\t Train Acc:99.49 %  | \tValid Loss:0.0019 \tValid Acc: 99.33 %\n",
            "\n"
          ]
        },
        {
          "output_type": "stream",
          "name": "stderr",
          "text": [
            "/usr/local/lib/python3.10/dist-packages/PIL/Image.py:3167: DecompressionBombWarning: Image size (108380318 pixels) exceeds limit of 89478485 pixels, could be decompression bomb DOS attack.\n",
            "  warnings.warn(\n"
          ]
        },
        {
          "output_type": "stream",
          "name": "stdout",
          "text": [
            "\n",
            "[Fold 0][EPOCH:7]\t Train Loss:0.0018\t Train Acc:99.16 %  | \tValid Loss:0.0035 \tValid Acc: 96.64 %\n",
            "\n"
          ]
        },
        {
          "output_type": "stream",
          "name": "stderr",
          "text": [
            "/usr/local/lib/python3.10/dist-packages/PIL/Image.py:3167: DecompressionBombWarning: Image size (102064323 pixels) exceeds limit of 89478485 pixels, could be decompression bomb DOS attack.\n",
            "  warnings.warn(\n"
          ]
        },
        {
          "output_type": "stream",
          "name": "stdout",
          "text": [
            "\n",
            "[Fold 0][EPOCH:8]\t Train Loss:0.0034\t Train Acc:98.99 %  | \tValid Loss:0.0027 \tValid Acc: 97.99 %\n",
            "\n"
          ]
        },
        {
          "output_type": "stream",
          "name": "stderr",
          "text": [
            "/usr/local/lib/python3.10/dist-packages/PIL/Image.py:3167: DecompressionBombWarning: Image size (107001423 pixels) exceeds limit of 89478485 pixels, could be decompression bomb DOS attack.\n",
            "  warnings.warn(\n"
          ]
        },
        {
          "output_type": "stream",
          "name": "stdout",
          "text": [
            "\n",
            "[Fold 0][EPOCH:9]\t Train Loss:0.0034\t Train Acc:98.65 %  | \tValid Loss:0.0036 \tValid Acc: 98.66 %\n",
            "\n"
          ]
        },
        {
          "output_type": "stream",
          "name": "stderr",
          "text": [
            "/usr/local/lib/python3.10/dist-packages/PIL/Image.py:3167: DecompressionBombWarning: Image size (112874713 pixels) exceeds limit of 89478485 pixels, could be decompression bomb DOS attack.\n",
            "  warnings.warn(\n"
          ]
        },
        {
          "output_type": "stream",
          "name": "stdout",
          "text": [
            "\n",
            "[Fold 0][EPOCH:10]\t Train Loss:0.0066\t Train Acc:98.99 %  | \tValid Loss:0.0028 \tValid Acc: 98.66 %\n",
            "\n",
            "\n",
            "[Fold 0][EPOCH:11]\t Train Loss:0.0037\t Train Acc:98.32 %  | \tValid Loss:0.0032 \tValid Acc: 97.99 %\n",
            "\n",
            "\n",
            "[Fold 0][EPOCH:12]\t Train Loss:0.0014\t Train Acc:99.66 %  | \tValid Loss:0.0031 \tValid Acc: 97.99 %\n",
            "\n",
            "\n",
            "[Fold 0][EPOCH:13]\t Train Loss:0.0053\t Train Acc:99.33 %  | \tValid Loss:0.0035 \tValid Acc: 97.99 %\n",
            "\n"
          ]
        },
        {
          "output_type": "stream",
          "name": "stderr",
          "text": [
            "/usr/local/lib/python3.10/dist-packages/PIL/Image.py:3167: DecompressionBombWarning: Image size (109118937 pixels) exceeds limit of 89478485 pixels, could be decompression bomb DOS attack.\n",
            "  warnings.warn(\n"
          ]
        },
        {
          "output_type": "stream",
          "name": "stdout",
          "text": [
            "\n",
            "[Fold 0][EPOCH:14]\t Train Loss:0.0044\t Train Acc:98.32 %  | \tValid Loss:0.0037 \tValid Acc: 97.99 %\n",
            "\n",
            "\n",
            "[Fold 0][EPOCH:15]\t Train Loss:0.0095\t Train Acc:98.32 %  | \tValid Loss:0.0015 \tValid Acc: 99.33 %\n",
            "\n",
            "\n",
            "[Fold 0][EPOCH:16]\t Train Loss:0.0043\t Train Acc:99.33 %  | \tValid Loss:0.0024 \tValid Acc: 98.66 %\n",
            "\n"
          ]
        },
        {
          "output_type": "stream",
          "name": "stderr",
          "text": [
            "/usr/local/lib/python3.10/dist-packages/PIL/Image.py:3167: DecompressionBombWarning: Image size (103053972 pixels) exceeds limit of 89478485 pixels, could be decompression bomb DOS attack.\n",
            "  warnings.warn(\n"
          ]
        },
        {
          "output_type": "stream",
          "name": "stdout",
          "text": [
            "\n",
            "[Fold 0][EPOCH:17]\t Train Loss:0.0029\t Train Acc:98.65 %  | \tValid Loss:0.0034 \tValid Acc: 97.99 %\n",
            "\n"
          ]
        },
        {
          "output_type": "stream",
          "name": "stderr",
          "text": [
            "/usr/local/lib/python3.10/dist-packages/PIL/Image.py:3167: DecompressionBombWarning: Image size (110872807 pixels) exceeds limit of 89478485 pixels, could be decompression bomb DOS attack.\n",
            "  warnings.warn(\n"
          ]
        },
        {
          "output_type": "stream",
          "name": "stdout",
          "text": [
            "\n",
            "[Fold 0][EPOCH:18]\t Train Loss:0.0038\t Train Acc:99.33 %  | \tValid Loss:0.0032 \tValid Acc: 96.64 %\n",
            "\n"
          ]
        },
        {
          "output_type": "stream",
          "name": "stderr",
          "text": [
            "/usr/local/lib/python3.10/dist-packages/PIL/Image.py:3167: DecompressionBombWarning: Image size (112432681 pixels) exceeds limit of 89478485 pixels, could be decompression bomb DOS attack.\n",
            "  warnings.warn(\n"
          ]
        },
        {
          "output_type": "stream",
          "name": "stdout",
          "text": [
            "\n",
            "[Fold 0][EPOCH:19]\t Train Loss:0.0027\t Train Acc:98.65 %  | \tValid Loss:0.0045 \tValid Acc: 96.64 %\n",
            "\n",
            "\n",
            "[Fold 0][EPOCH:20]\t Train Loss:0.0027\t Train Acc:98.32 %  | \tValid Loss:0.0019 \tValid Acc: 99.33 %\n",
            "\n"
          ]
        },
        {
          "output_type": "stream",
          "name": "stderr",
          "text": [
            "/usr/local/lib/python3.10/dist-packages/PIL/Image.py:3167: DecompressionBombWarning: Image size (102895605 pixels) exceeds limit of 89478485 pixels, could be decompression bomb DOS attack.\n",
            "  warnings.warn(\n"
          ]
        },
        {
          "output_type": "stream",
          "name": "stdout",
          "text": [
            "\n",
            "[Fold 1][EPOCH:1]\t Train Loss:0.0027\t Train Acc:98.15 %  | \tValid Loss:0.0001 \tValid Acc: 100.00 %\n",
            "\n"
          ]
        },
        {
          "output_type": "stream",
          "name": "stderr",
          "text": [
            "/usr/local/lib/python3.10/dist-packages/PIL/Image.py:3167: DecompressionBombWarning: Image size (104562508 pixels) exceeds limit of 89478485 pixels, could be decompression bomb DOS attack.\n",
            "  warnings.warn(\n"
          ]
        },
        {
          "output_type": "stream",
          "name": "stdout",
          "text": [
            "\n",
            "[Fold 1][EPOCH:2]\t Train Loss:0.0014\t Train Acc:99.49 %  | \tValid Loss:0.0001 \tValid Acc: 100.00 %\n",
            "\n"
          ]
        },
        {
          "output_type": "stream",
          "name": "stderr",
          "text": [
            "/usr/local/lib/python3.10/dist-packages/PIL/Image.py:3167: DecompressionBombWarning: Image size (106214400 pixels) exceeds limit of 89478485 pixels, could be decompression bomb DOS attack.\n",
            "  warnings.warn(\n",
            "/usr/local/lib/python3.10/dist-packages/PIL/Image.py:3167: DecompressionBombWarning: Image size (102797092 pixels) exceeds limit of 89478485 pixels, could be decompression bomb DOS attack.\n",
            "  warnings.warn(\n"
          ]
        },
        {
          "output_type": "stream",
          "name": "stdout",
          "text": [
            "\n",
            "[Fold 1][EPOCH:3]\t Train Loss:0.0010\t Train Acc:99.83 %  | \tValid Loss:0.0001 \tValid Acc: 100.00 %\n",
            "\n"
          ]
        },
        {
          "output_type": "stream",
          "name": "stderr",
          "text": [
            "/usr/local/lib/python3.10/dist-packages/PIL/Image.py:3167: DecompressionBombWarning: Image size (104018795 pixels) exceeds limit of 89478485 pixels, could be decompression bomb DOS attack.\n",
            "  warnings.warn(\n"
          ]
        },
        {
          "output_type": "stream",
          "name": "stdout",
          "text": [
            "\n",
            "[Fold 1][EPOCH:4]\t Train Loss:0.0007\t Train Acc:99.83 %  | \tValid Loss:0.0001 \tValid Acc: 100.00 %\n",
            "\n"
          ]
        },
        {
          "output_type": "stream",
          "name": "stderr",
          "text": [
            "/usr/local/lib/python3.10/dist-packages/PIL/Image.py:3167: DecompressionBombWarning: Image size (106100352 pixels) exceeds limit of 89478485 pixels, could be decompression bomb DOS attack.\n",
            "  warnings.warn(\n",
            "/usr/local/lib/python3.10/dist-packages/PIL/Image.py:3167: DecompressionBombWarning: Image size (102062500 pixels) exceeds limit of 89478485 pixels, could be decompression bomb DOS attack.\n",
            "  warnings.warn(\n"
          ]
        },
        {
          "output_type": "stream",
          "name": "stdout",
          "text": [
            "\n",
            "[Fold 1][EPOCH:5]\t Train Loss:0.0009\t Train Acc:99.49 %  | \tValid Loss:0.0001 \tValid Acc: 100.00 %\n",
            "\n"
          ]
        },
        {
          "output_type": "stream",
          "name": "stderr",
          "text": [
            "/usr/local/lib/python3.10/dist-packages/PIL/Image.py:3167: DecompressionBombWarning: Image size (103672692 pixels) exceeds limit of 89478485 pixels, could be decompression bomb DOS attack.\n",
            "  warnings.warn(\n"
          ]
        },
        {
          "output_type": "stream",
          "name": "stdout",
          "text": [
            "\n",
            "[Fold 1][EPOCH:6]\t Train Loss:0.0049\t Train Acc:99.83 %  | \tValid Loss:0.0001 \tValid Acc: 100.00 %\n",
            "\n"
          ]
        },
        {
          "output_type": "stream",
          "name": "stderr",
          "text": [
            "/usr/local/lib/python3.10/dist-packages/PIL/Image.py:3167: DecompressionBombWarning: Image size (105334720 pixels) exceeds limit of 89478485 pixels, could be decompression bomb DOS attack.\n",
            "  warnings.warn(\n"
          ]
        },
        {
          "output_type": "stream",
          "name": "stdout",
          "text": [
            "\n",
            "[Fold 1][EPOCH:7]\t Train Loss:0.0006\t Train Acc:99.83 %  | \tValid Loss:0.0003 \tValid Acc: 100.00 %\n",
            "\n"
          ]
        },
        {
          "output_type": "stream",
          "name": "stderr",
          "text": [
            "/usr/local/lib/python3.10/dist-packages/PIL/Image.py:3167: DecompressionBombWarning: Image size (106808526 pixels) exceeds limit of 89478485 pixels, could be decompression bomb DOS attack.\n",
            "  warnings.warn(\n",
            "/usr/local/lib/python3.10/dist-packages/PIL/Image.py:3167: DecompressionBombWarning: Image size (105786936 pixels) exceeds limit of 89478485 pixels, could be decompression bomb DOS attack.\n",
            "  warnings.warn(\n"
          ]
        },
        {
          "output_type": "stream",
          "name": "stdout",
          "text": [
            "\n",
            "[Fold 1][EPOCH:8]\t Train Loss:0.0030\t Train Acc:99.49 %  | \tValid Loss:0.0002 \tValid Acc: 100.00 %\n",
            "\n"
          ]
        },
        {
          "output_type": "stream",
          "name": "stderr",
          "text": [
            "/usr/local/lib/python3.10/dist-packages/PIL/Image.py:3167: DecompressionBombWarning: Image size (102194388 pixels) exceeds limit of 89478485 pixels, could be decompression bomb DOS attack.\n",
            "  warnings.warn(\n"
          ]
        },
        {
          "output_type": "stream",
          "name": "stdout",
          "text": [
            "\n",
            "[Fold 1][EPOCH:9]\t Train Loss:0.0043\t Train Acc:99.33 %  | \tValid Loss:0.0003 \tValid Acc: 100.00 %\n",
            "\n"
          ]
        },
        {
          "output_type": "stream",
          "name": "stderr",
          "text": [
            "/usr/local/lib/python3.10/dist-packages/PIL/Image.py:3167: DecompressionBombWarning: Image size (102990727 pixels) exceeds limit of 89478485 pixels, could be decompression bomb DOS attack.\n",
            "  warnings.warn(\n",
            "/usr/local/lib/python3.10/dist-packages/PIL/Image.py:3167: DecompressionBombWarning: Image size (106883208 pixels) exceeds limit of 89478485 pixels, could be decompression bomb DOS attack.\n",
            "  warnings.warn(\n"
          ]
        },
        {
          "output_type": "stream",
          "name": "stdout",
          "text": [
            "\n",
            "[Fold 1][EPOCH:10]\t Train Loss:0.0019\t Train Acc:99.33 %  | \tValid Loss:0.0003 \tValid Acc: 100.00 %\n",
            "\n"
          ]
        },
        {
          "output_type": "stream",
          "name": "stderr",
          "text": [
            "/usr/local/lib/python3.10/dist-packages/PIL/Image.py:3167: DecompressionBombWarning: Image size (104510370 pixels) exceeds limit of 89478485 pixels, could be decompression bomb DOS attack.\n",
            "  warnings.warn(\n",
            "/usr/local/lib/python3.10/dist-packages/PIL/Image.py:3167: DecompressionBombWarning: Image size (102077955 pixels) exceeds limit of 89478485 pixels, could be decompression bomb DOS attack.\n",
            "  warnings.warn(\n"
          ]
        },
        {
          "output_type": "stream",
          "name": "stdout",
          "text": [
            "\n",
            "[Fold 1][EPOCH:11]\t Train Loss:0.0011\t Train Acc:99.66 %  | \tValid Loss:0.0002 \tValid Acc: 100.00 %\n",
            "\n"
          ]
        },
        {
          "output_type": "stream",
          "name": "stderr",
          "text": [
            "/usr/local/lib/python3.10/dist-packages/PIL/Image.py:3167: DecompressionBombWarning: Image size (106774335 pixels) exceeds limit of 89478485 pixels, could be decompression bomb DOS attack.\n",
            "  warnings.warn(\n",
            "/usr/local/lib/python3.10/dist-packages/PIL/Image.py:3167: DecompressionBombWarning: Image size (106058274 pixels) exceeds limit of 89478485 pixels, could be decompression bomb DOS attack.\n",
            "  warnings.warn(\n"
          ]
        },
        {
          "output_type": "stream",
          "name": "stdout",
          "text": [
            "\n",
            "[Fold 1][EPOCH:12]\t Train Loss:0.0003\t Train Acc:100.00 %  | \tValid Loss:0.0001 \tValid Acc: 100.00 %\n",
            "\n",
            "\n",
            "[Fold 1][EPOCH:13]\t Train Loss:0.0030\t Train Acc:99.83 %  | \tValid Loss:0.0001 \tValid Acc: 100.00 %\n",
            "\n",
            "\n",
            "[Fold 1][EPOCH:14]\t Train Loss:0.0044\t Train Acc:99.33 %  | \tValid Loss:0.0005 \tValid Acc: 99.33 %\n",
            "\n",
            "\n",
            "[Fold 1][EPOCH:15]\t Train Loss:0.0016\t Train Acc:98.99 %  | \tValid Loss:0.0005 \tValid Acc: 100.00 %\n",
            "\n"
          ]
        },
        {
          "output_type": "stream",
          "name": "stderr",
          "text": [
            "/usr/local/lib/python3.10/dist-packages/PIL/Image.py:3167: DecompressionBombWarning: Image size (108801088 pixels) exceeds limit of 89478485 pixels, could be decompression bomb DOS attack.\n",
            "  warnings.warn(\n"
          ]
        },
        {
          "output_type": "stream",
          "name": "stdout",
          "text": [
            "\n",
            "[Fold 1][EPOCH:16]\t Train Loss:0.0005\t Train Acc:100.00 %  | \tValid Loss:0.0001 \tValid Acc: 100.00 %\n",
            "\n"
          ]
        },
        {
          "output_type": "stream",
          "name": "stderr",
          "text": [
            "/usr/local/lib/python3.10/dist-packages/PIL/Image.py:3167: DecompressionBombWarning: Image size (107925259 pixels) exceeds limit of 89478485 pixels, could be decompression bomb DOS attack.\n",
            "  warnings.warn(\n"
          ]
        },
        {
          "output_type": "stream",
          "name": "stdout",
          "text": [
            "\n",
            "[Fold 1][EPOCH:17]\t Train Loss:0.0011\t Train Acc:99.83 %  | \tValid Loss:0.0001 \tValid Acc: 100.00 %\n",
            "\n"
          ]
        },
        {
          "output_type": "stream",
          "name": "stderr",
          "text": [
            "/usr/local/lib/python3.10/dist-packages/PIL/Image.py:3167: DecompressionBombWarning: Image size (105518400 pixels) exceeds limit of 89478485 pixels, could be decompression bomb DOS attack.\n",
            "  warnings.warn(\n"
          ]
        },
        {
          "output_type": "stream",
          "name": "stdout",
          "text": [
            "\n",
            "[Fold 1][EPOCH:18]\t Train Loss:0.0007\t Train Acc:99.83 %  | \tValid Loss:0.0001 \tValid Acc: 100.00 %\n",
            "\n",
            "\n",
            "[Fold 1][EPOCH:19]\t Train Loss:0.0024\t Train Acc:99.66 %  | \tValid Loss:0.0001 \tValid Acc: 100.00 %\n",
            "\n"
          ]
        },
        {
          "output_type": "stream",
          "name": "stderr",
          "text": [
            "/usr/local/lib/python3.10/dist-packages/PIL/Image.py:3167: DecompressionBombWarning: Image size (106725774 pixels) exceeds limit of 89478485 pixels, could be decompression bomb DOS attack.\n",
            "  warnings.warn(\n"
          ]
        },
        {
          "output_type": "stream",
          "name": "stdout",
          "text": [
            "\n",
            "[Fold 1][EPOCH:20]\t Train Loss:0.0004\t Train Acc:100.00 %  | \tValid Loss:0.0001 \tValid Acc: 100.00 %\n",
            "\n"
          ]
        },
        {
          "output_type": "stream",
          "name": "stderr",
          "text": [
            "/usr/local/lib/python3.10/dist-packages/PIL/Image.py:3167: DecompressionBombWarning: Image size (103326189 pixels) exceeds limit of 89478485 pixels, could be decompression bomb DOS attack.\n",
            "  warnings.warn(\n"
          ]
        },
        {
          "output_type": "stream",
          "name": "stdout",
          "text": [
            "\n",
            "[Fold 2][EPOCH:1]\t Train Loss:0.0062\t Train Acc:99.66 %  | \tValid Loss:0.0000 \tValid Acc: 100.00 %\n",
            "\n"
          ]
        },
        {
          "output_type": "stream",
          "name": "stderr",
          "text": [
            "/usr/local/lib/python3.10/dist-packages/PIL/Image.py:3167: DecompressionBombWarning: Image size (102565904 pixels) exceeds limit of 89478485 pixels, could be decompression bomb DOS attack.\n",
            "  warnings.warn(\n",
            "/usr/local/lib/python3.10/dist-packages/PIL/Image.py:3167: DecompressionBombWarning: Image size (109567465 pixels) exceeds limit of 89478485 pixels, could be decompression bomb DOS attack.\n",
            "  warnings.warn(\n"
          ]
        },
        {
          "output_type": "stream",
          "name": "stdout",
          "text": [
            "\n",
            "[Fold 2][EPOCH:2]\t Train Loss:0.0017\t Train Acc:99.66 %  | \tValid Loss:0.0001 \tValid Acc: 100.00 %\n",
            "\n",
            "\n",
            "[Fold 2][EPOCH:3]\t Train Loss:0.0021\t Train Acc:99.83 %  | \tValid Loss:0.0001 \tValid Acc: 100.00 %\n",
            "\n"
          ]
        },
        {
          "output_type": "stream",
          "name": "stderr",
          "text": [
            "/usr/local/lib/python3.10/dist-packages/PIL/Image.py:3167: DecompressionBombWarning: Image size (110373197 pixels) exceeds limit of 89478485 pixels, could be decompression bomb DOS attack.\n",
            "  warnings.warn(\n"
          ]
        },
        {
          "output_type": "stream",
          "name": "stdout",
          "text": [
            "\n",
            "[Fold 2][EPOCH:4]\t Train Loss:0.0014\t Train Acc:99.83 %  | \tValid Loss:0.0000 \tValid Acc: 100.00 %\n",
            "\n"
          ]
        },
        {
          "output_type": "stream",
          "name": "stderr",
          "text": [
            "/usr/local/lib/python3.10/dist-packages/PIL/Image.py:3167: DecompressionBombWarning: Image size (103727940 pixels) exceeds limit of 89478485 pixels, could be decompression bomb DOS attack.\n",
            "  warnings.warn(\n"
          ]
        },
        {
          "output_type": "stream",
          "name": "stdout",
          "text": [
            "\n",
            "[Fold 2][EPOCH:5]\t Train Loss:0.0003\t Train Acc:100.00 %  | \tValid Loss:0.0000 \tValid Acc: 100.00 %\n",
            "\n"
          ]
        },
        {
          "output_type": "stream",
          "name": "stderr",
          "text": [
            "/usr/local/lib/python3.10/dist-packages/PIL/Image.py:3167: DecompressionBombWarning: Image size (104623134 pixels) exceeds limit of 89478485 pixels, could be decompression bomb DOS attack.\n",
            "  warnings.warn(\n"
          ]
        },
        {
          "output_type": "stream",
          "name": "stdout",
          "text": [
            "\n",
            "[Fold 2][EPOCH:6]\t Train Loss:0.0003\t Train Acc:100.00 %  | \tValid Loss:0.0000 \tValid Acc: 100.00 %\n",
            "\n"
          ]
        },
        {
          "output_type": "stream",
          "name": "stderr",
          "text": [
            "/usr/local/lib/python3.10/dist-packages/PIL/Image.py:3167: DecompressionBombWarning: Image size (105385176 pixels) exceeds limit of 89478485 pixels, could be decompression bomb DOS attack.\n",
            "  warnings.warn(\n"
          ]
        },
        {
          "output_type": "stream",
          "name": "stdout",
          "text": [
            "\n",
            "[Fold 2][EPOCH:7]\t Train Loss:0.0021\t Train Acc:99.49 %  | \tValid Loss:0.0000 \tValid Acc: 100.00 %\n",
            "\n"
          ]
        },
        {
          "output_type": "stream",
          "name": "stderr",
          "text": [
            "/usr/local/lib/python3.10/dist-packages/PIL/Image.py:3167: DecompressionBombWarning: Image size (106939796 pixels) exceeds limit of 89478485 pixels, could be decompression bomb DOS attack.\n",
            "  warnings.warn(\n"
          ]
        },
        {
          "output_type": "stream",
          "name": "stdout",
          "text": [
            "\n",
            "[Fold 2][EPOCH:8]\t Train Loss:0.0017\t Train Acc:99.83 %  | \tValid Loss:0.0000 \tValid Acc: 100.00 %\n",
            "\n"
          ]
        },
        {
          "output_type": "stream",
          "name": "stderr",
          "text": [
            "/usr/local/lib/python3.10/dist-packages/PIL/Image.py:3167: DecompressionBombWarning: Image size (103435489 pixels) exceeds limit of 89478485 pixels, could be decompression bomb DOS attack.\n",
            "  warnings.warn(\n",
            "/usr/local/lib/python3.10/dist-packages/PIL/Image.py:3167: DecompressionBombWarning: Image size (104228074 pixels) exceeds limit of 89478485 pixels, could be decompression bomb DOS attack.\n",
            "  warnings.warn(\n",
            "/usr/local/lib/python3.10/dist-packages/PIL/Image.py:3167: DecompressionBombWarning: Image size (105362221 pixels) exceeds limit of 89478485 pixels, could be decompression bomb DOS attack.\n",
            "  warnings.warn(\n"
          ]
        },
        {
          "output_type": "stream",
          "name": "stdout",
          "text": [
            "\n",
            "[Fold 2][EPOCH:9]\t Train Loss:0.0020\t Train Acc:99.83 %  | \tValid Loss:0.0000 \tValid Acc: 100.00 %\n",
            "\n"
          ]
        },
        {
          "output_type": "stream",
          "name": "stderr",
          "text": [
            "/usr/local/lib/python3.10/dist-packages/PIL/Image.py:3167: DecompressionBombWarning: Image size (104284980 pixels) exceeds limit of 89478485 pixels, could be decompression bomb DOS attack.\n",
            "  warnings.warn(\n"
          ]
        },
        {
          "output_type": "stream",
          "name": "stdout",
          "text": [
            "\n",
            "[Fold 2][EPOCH:10]\t Train Loss:0.0002\t Train Acc:100.00 %  | \tValid Loss:0.0000 \tValid Acc: 100.00 %\n",
            "\n",
            "\n",
            "[Fold 2][EPOCH:11]\t Train Loss:0.0003\t Train Acc:100.00 %  | \tValid Loss:0.0000 \tValid Acc: 100.00 %\n",
            "\n"
          ]
        },
        {
          "output_type": "stream",
          "name": "stderr",
          "text": [
            "/usr/local/lib/python3.10/dist-packages/PIL/Image.py:3167: DecompressionBombWarning: Image size (109130364 pixels) exceeds limit of 89478485 pixels, could be decompression bomb DOS attack.\n",
            "  warnings.warn(\n",
            "/usr/local/lib/python3.10/dist-packages/PIL/Image.py:3167: DecompressionBombWarning: Image size (103635538 pixels) exceeds limit of 89478485 pixels, could be decompression bomb DOS attack.\n",
            "  warnings.warn(\n"
          ]
        },
        {
          "output_type": "stream",
          "name": "stdout",
          "text": [
            "\n",
            "[Fold 2][EPOCH:12]\t Train Loss:0.0003\t Train Acc:100.00 %  | \tValid Loss:0.0000 \tValid Acc: 100.00 %\n",
            "\n"
          ]
        },
        {
          "output_type": "stream",
          "name": "stderr",
          "text": [
            "/usr/local/lib/python3.10/dist-packages/PIL/Image.py:3167: DecompressionBombWarning: Image size (102289264 pixels) exceeds limit of 89478485 pixels, could be decompression bomb DOS attack.\n",
            "  warnings.warn(\n"
          ]
        },
        {
          "output_type": "stream",
          "name": "stdout",
          "text": [
            "\n",
            "[Fold 2][EPOCH:13]\t Train Loss:0.0002\t Train Acc:100.00 %  | \tValid Loss:0.0000 \tValid Acc: 100.00 %\n",
            "\n"
          ]
        },
        {
          "output_type": "stream",
          "name": "stderr",
          "text": [
            "/usr/local/lib/python3.10/dist-packages/PIL/Image.py:3167: DecompressionBombWarning: Image size (107654484 pixels) exceeds limit of 89478485 pixels, could be decompression bomb DOS attack.\n",
            "  warnings.warn(\n",
            "/usr/local/lib/python3.10/dist-packages/PIL/Image.py:3167: DecompressionBombWarning: Image size (102220443 pixels) exceeds limit of 89478485 pixels, could be decompression bomb DOS attack.\n",
            "  warnings.warn(\n"
          ]
        },
        {
          "output_type": "stream",
          "name": "stdout",
          "text": [
            "\n",
            "[Fold 2][EPOCH:14]\t Train Loss:0.0012\t Train Acc:99.83 %  | \tValid Loss:0.0000 \tValid Acc: 100.00 %\n",
            "\n"
          ]
        },
        {
          "output_type": "stream",
          "name": "stderr",
          "text": [
            "/usr/local/lib/python3.10/dist-packages/PIL/Image.py:3167: DecompressionBombWarning: Image size (107655729 pixels) exceeds limit of 89478485 pixels, could be decompression bomb DOS attack.\n",
            "  warnings.warn(\n",
            "/usr/local/lib/python3.10/dist-packages/PIL/Image.py:3167: DecompressionBombWarning: Image size (106570740 pixels) exceeds limit of 89478485 pixels, could be decompression bomb DOS attack.\n",
            "  warnings.warn(\n"
          ]
        },
        {
          "output_type": "stream",
          "name": "stdout",
          "text": [
            "\n",
            "[Fold 2][EPOCH:15]\t Train Loss:0.0005\t Train Acc:99.66 %  | \tValid Loss:0.0000 \tValid Acc: 100.00 %\n",
            "\n"
          ]
        },
        {
          "output_type": "stream",
          "name": "stderr",
          "text": [
            "/usr/local/lib/python3.10/dist-packages/PIL/Image.py:3167: DecompressionBombWarning: Image size (109968738 pixels) exceeds limit of 89478485 pixels, could be decompression bomb DOS attack.\n",
            "  warnings.warn(\n"
          ]
        },
        {
          "output_type": "stream",
          "name": "stdout",
          "text": [
            "\n",
            "[Fold 2][EPOCH:16]\t Train Loss:0.0023\t Train Acc:99.83 %  | \tValid Loss:0.0000 \tValid Acc: 100.00 %\n",
            "\n"
          ]
        },
        {
          "output_type": "stream",
          "name": "stderr",
          "text": [
            "/usr/local/lib/python3.10/dist-packages/PIL/Image.py:3167: DecompressionBombWarning: Image size (102171300 pixels) exceeds limit of 89478485 pixels, could be decompression bomb DOS attack.\n",
            "  warnings.warn(\n",
            "/usr/local/lib/python3.10/dist-packages/PIL/Image.py:3167: DecompressionBombWarning: Image size (107784180 pixels) exceeds limit of 89478485 pixels, could be decompression bomb DOS attack.\n",
            "  warnings.warn(\n"
          ]
        },
        {
          "output_type": "stream",
          "name": "stdout",
          "text": [
            "\n",
            "[Fold 2][EPOCH:17]\t Train Loss:0.0018\t Train Acc:99.49 %  | \tValid Loss:0.0000 \tValid Acc: 100.00 %\n",
            "\n"
          ]
        },
        {
          "output_type": "stream",
          "name": "stderr",
          "text": [
            "/usr/local/lib/python3.10/dist-packages/PIL/Image.py:3167: DecompressionBombWarning: Image size (104714275 pixels) exceeds limit of 89478485 pixels, could be decompression bomb DOS attack.\n",
            "  warnings.warn(\n"
          ]
        },
        {
          "output_type": "stream",
          "name": "stdout",
          "text": [
            "\n",
            "[Fold 2][EPOCH:18]\t Train Loss:0.0021\t Train Acc:99.66 %  | \tValid Loss:0.0000 \tValid Acc: 100.00 %\n",
            "\n"
          ]
        },
        {
          "output_type": "stream",
          "name": "stderr",
          "text": [
            "/usr/local/lib/python3.10/dist-packages/PIL/Image.py:3167: DecompressionBombWarning: Image size (102211773 pixels) exceeds limit of 89478485 pixels, could be decompression bomb DOS attack.\n",
            "  warnings.warn(\n",
            "/usr/local/lib/python3.10/dist-packages/PIL/Image.py:3167: DecompressionBombWarning: Image size (107266595 pixels) exceeds limit of 89478485 pixels, could be decompression bomb DOS attack.\n",
            "  warnings.warn(\n"
          ]
        },
        {
          "output_type": "stream",
          "name": "stdout",
          "text": [
            "\n",
            "[Fold 2][EPOCH:19]\t Train Loss:0.0001\t Train Acc:100.00 %  | \tValid Loss:0.0000 \tValid Acc: 100.00 %\n",
            "\n"
          ]
        },
        {
          "output_type": "stream",
          "name": "stderr",
          "text": [
            "/usr/local/lib/python3.10/dist-packages/PIL/Image.py:3167: DecompressionBombWarning: Image size (104358408 pixels) exceeds limit of 89478485 pixels, could be decompression bomb DOS attack.\n",
            "  warnings.warn(\n",
            "/usr/local/lib/python3.10/dist-packages/PIL/Image.py:3167: DecompressionBombWarning: Image size (110032699 pixels) exceeds limit of 89478485 pixels, could be decompression bomb DOS attack.\n",
            "  warnings.warn(\n",
            "/usr/local/lib/python3.10/dist-packages/PIL/Image.py:3167: DecompressionBombWarning: Image size (112170420 pixels) exceeds limit of 89478485 pixels, could be decompression bomb DOS attack.\n",
            "  warnings.warn(\n"
          ]
        },
        {
          "output_type": "stream",
          "name": "stdout",
          "text": [
            "\n",
            "[Fold 2][EPOCH:20]\t Train Loss:0.0001\t Train Acc:100.00 %  | \tValid Loss:0.0000 \tValid Acc: 100.00 %\n",
            "\n"
          ]
        },
        {
          "output_type": "stream",
          "name": "stderr",
          "text": [
            "/usr/local/lib/python3.10/dist-packages/PIL/Image.py:3167: DecompressionBombWarning: Image size (112522320 pixels) exceeds limit of 89478485 pixels, could be decompression bomb DOS attack.\n",
            "  warnings.warn(\n",
            "/usr/local/lib/python3.10/dist-packages/PIL/Image.py:3167: DecompressionBombWarning: Image size (111042120 pixels) exceeds limit of 89478485 pixels, could be decompression bomb DOS attack.\n",
            "  warnings.warn(\n"
          ]
        },
        {
          "output_type": "stream",
          "name": "stdout",
          "text": [
            "\n",
            "[Fold 3][EPOCH:1]\t Train Loss:0.0002\t Train Acc:100.00 %  | \tValid Loss:0.0000 \tValid Acc: 100.00 %\n",
            "\n",
            "\n",
            "[Fold 3][EPOCH:2]\t Train Loss:0.0003\t Train Acc:100.00 %  | \tValid Loss:0.0000 \tValid Acc: 100.00 %\n",
            "\n"
          ]
        },
        {
          "output_type": "stream",
          "name": "stderr",
          "text": [
            "/usr/local/lib/python3.10/dist-packages/PIL/Image.py:3167: DecompressionBombWarning: Image size (103818888 pixels) exceeds limit of 89478485 pixels, could be decompression bomb DOS attack.\n",
            "  warnings.warn(\n"
          ]
        },
        {
          "output_type": "stream",
          "name": "stdout",
          "text": [
            "\n",
            "[Fold 3][EPOCH:3]\t Train Loss:0.0001\t Train Acc:100.00 %  | \tValid Loss:0.0000 \tValid Acc: 100.00 %\n",
            "\n",
            "\n",
            "[Fold 3][EPOCH:4]\t Train Loss:0.0034\t Train Acc:99.33 %  | \tValid Loss:0.0000 \tValid Acc: 100.00 %\n",
            "\n"
          ]
        },
        {
          "output_type": "stream",
          "name": "stderr",
          "text": [
            "/usr/local/lib/python3.10/dist-packages/PIL/Image.py:3167: DecompressionBombWarning: Image size (102423062 pixels) exceeds limit of 89478485 pixels, could be decompression bomb DOS attack.\n",
            "  warnings.warn(\n",
            "/usr/local/lib/python3.10/dist-packages/PIL/Image.py:3167: DecompressionBombWarning: Image size (103861160 pixels) exceeds limit of 89478485 pixels, could be decompression bomb DOS attack.\n",
            "  warnings.warn(\n"
          ]
        },
        {
          "output_type": "stream",
          "name": "stdout",
          "text": [
            "\n",
            "[Fold 3][EPOCH:5]\t Train Loss:0.0025\t Train Acc:99.83 %  | \tValid Loss:0.0000 \tValid Acc: 100.00 %\n",
            "\n"
          ]
        },
        {
          "output_type": "stream",
          "name": "stderr",
          "text": [
            "/usr/local/lib/python3.10/dist-packages/PIL/Image.py:3167: DecompressionBombWarning: Image size (102596724 pixels) exceeds limit of 89478485 pixels, could be decompression bomb DOS attack.\n",
            "  warnings.warn(\n",
            "/usr/local/lib/python3.10/dist-packages/PIL/Image.py:3167: DecompressionBombWarning: Image size (108859564 pixels) exceeds limit of 89478485 pixels, could be decompression bomb DOS attack.\n",
            "  warnings.warn(\n"
          ]
        },
        {
          "output_type": "stream",
          "name": "stdout",
          "text": [
            "\n",
            "[Fold 3][EPOCH:6]\t Train Loss:0.0019\t Train Acc:99.66 %  | \tValid Loss:0.0000 \tValid Acc: 100.00 %\n",
            "\n",
            "\n",
            "[Fold 3][EPOCH:7]\t Train Loss:0.0002\t Train Acc:100.00 %  | \tValid Loss:0.0000 \tValid Acc: 100.00 %\n",
            "\n",
            "\n",
            "[Fold 3][EPOCH:8]\t Train Loss:0.0001\t Train Acc:100.00 %  | \tValid Loss:0.0000 \tValid Acc: 100.00 %\n",
            "\n"
          ]
        },
        {
          "output_type": "stream",
          "name": "stderr",
          "text": [
            "/usr/local/lib/python3.10/dist-packages/PIL/Image.py:3167: DecompressionBombWarning: Image size (104744640 pixels) exceeds limit of 89478485 pixels, could be decompression bomb DOS attack.\n",
            "  warnings.warn(\n",
            "/usr/local/lib/python3.10/dist-packages/PIL/Image.py:3167: DecompressionBombWarning: Image size (102113865 pixels) exceeds limit of 89478485 pixels, could be decompression bomb DOS attack.\n",
            "  warnings.warn(\n"
          ]
        },
        {
          "output_type": "stream",
          "name": "stdout",
          "text": [
            "\n",
            "[Fold 3][EPOCH:9]\t Train Loss:0.0001\t Train Acc:100.00 %  | \tValid Loss:0.0000 \tValid Acc: 100.00 %\n",
            "\n"
          ]
        },
        {
          "output_type": "stream",
          "name": "stderr",
          "text": [
            "/usr/local/lib/python3.10/dist-packages/PIL/Image.py:3167: DecompressionBombWarning: Image size (108431460 pixels) exceeds limit of 89478485 pixels, could be decompression bomb DOS attack.\n",
            "  warnings.warn(\n"
          ]
        },
        {
          "output_type": "stream",
          "name": "stdout",
          "text": [
            "\n",
            "[Fold 3][EPOCH:10]\t Train Loss:0.0002\t Train Acc:100.00 %  | \tValid Loss:0.0000 \tValid Acc: 100.00 %\n",
            "\n"
          ]
        },
        {
          "output_type": "stream",
          "name": "stderr",
          "text": [
            "/usr/local/lib/python3.10/dist-packages/PIL/Image.py:3167: DecompressionBombWarning: Image size (107598364 pixels) exceeds limit of 89478485 pixels, could be decompression bomb DOS attack.\n",
            "  warnings.warn(\n"
          ]
        },
        {
          "output_type": "stream",
          "name": "stdout",
          "text": [
            "\n",
            "[Fold 3][EPOCH:11]\t Train Loss:0.0001\t Train Acc:100.00 %  | \tValid Loss:0.0000 \tValid Acc: 100.00 %\n",
            "\n"
          ]
        },
        {
          "output_type": "stream",
          "name": "stderr",
          "text": [
            "/usr/local/lib/python3.10/dist-packages/PIL/Image.py:3167: DecompressionBombWarning: Image size (107018208 pixels) exceeds limit of 89478485 pixels, could be decompression bomb DOS attack.\n",
            "  warnings.warn(\n"
          ]
        },
        {
          "output_type": "stream",
          "name": "stdout",
          "text": [
            "\n",
            "[Fold 3][EPOCH:12]\t Train Loss:0.0016\t Train Acc:99.66 %  | \tValid Loss:0.0000 \tValid Acc: 100.00 %\n",
            "\n"
          ]
        },
        {
          "output_type": "stream",
          "name": "stderr",
          "text": [
            "/usr/local/lib/python3.10/dist-packages/PIL/Image.py:3167: DecompressionBombWarning: Image size (104762130 pixels) exceeds limit of 89478485 pixels, could be decompression bomb DOS attack.\n",
            "  warnings.warn(\n"
          ]
        },
        {
          "output_type": "stream",
          "name": "stdout",
          "text": [
            "\n",
            "[Fold 3][EPOCH:13]\t Train Loss:0.0003\t Train Acc:100.00 %  | \tValid Loss:0.0000 \tValid Acc: 100.00 %\n",
            "\n"
          ]
        },
        {
          "output_type": "stream",
          "name": "stderr",
          "text": [
            "/usr/local/lib/python3.10/dist-packages/PIL/Image.py:3167: DecompressionBombWarning: Image size (107949300 pixels) exceeds limit of 89478485 pixels, could be decompression bomb DOS attack.\n",
            "  warnings.warn(\n"
          ]
        },
        {
          "output_type": "stream",
          "name": "stdout",
          "text": [
            "\n",
            "[Fold 3][EPOCH:14]\t Train Loss:0.0001\t Train Acc:100.00 %  | \tValid Loss:0.0000 \tValid Acc: 100.00 %\n",
            "\n"
          ]
        },
        {
          "output_type": "stream",
          "name": "stderr",
          "text": [
            "/usr/local/lib/python3.10/dist-packages/PIL/Image.py:3167: DecompressionBombWarning: Image size (107358674 pixels) exceeds limit of 89478485 pixels, could be decompression bomb DOS attack.\n",
            "  warnings.warn(\n",
            "/usr/local/lib/python3.10/dist-packages/PIL/Image.py:3167: DecompressionBombWarning: Image size (103397688 pixels) exceeds limit of 89478485 pixels, could be decompression bomb DOS attack.\n",
            "  warnings.warn(\n"
          ]
        },
        {
          "output_type": "stream",
          "name": "stdout",
          "text": [
            "\n",
            "[Fold 3][EPOCH:15]\t Train Loss:0.0002\t Train Acc:100.00 %  | \tValid Loss:0.0000 \tValid Acc: 100.00 %\n",
            "\n",
            "\n",
            "[Fold 3][EPOCH:16]\t Train Loss:0.0003\t Train Acc:99.83 %  | \tValid Loss:0.0000 \tValid Acc: 100.00 %\n",
            "\n"
          ]
        },
        {
          "output_type": "stream",
          "name": "stderr",
          "text": [
            "/usr/local/lib/python3.10/dist-packages/PIL/Image.py:3167: DecompressionBombWarning: Image size (104511168 pixels) exceeds limit of 89478485 pixels, could be decompression bomb DOS attack.\n",
            "  warnings.warn(\n",
            "/usr/local/lib/python3.10/dist-packages/PIL/Image.py:3167: DecompressionBombWarning: Image size (104579293 pixels) exceeds limit of 89478485 pixels, could be decompression bomb DOS attack.\n",
            "  warnings.warn(\n"
          ]
        },
        {
          "output_type": "stream",
          "name": "stdout",
          "text": [
            "\n",
            "[Fold 3][EPOCH:17]\t Train Loss:0.0002\t Train Acc:100.00 %  | \tValid Loss:0.0000 \tValid Acc: 100.00 %\n",
            "\n",
            "\n",
            "[Fold 3][EPOCH:18]\t Train Loss:0.0001\t Train Acc:100.00 %  | \tValid Loss:0.0000 \tValid Acc: 100.00 %\n",
            "\n",
            "\n",
            "[Fold 3][EPOCH:19]\t Train Loss:0.0001\t Train Acc:100.00 %  | \tValid Loss:0.0000 \tValid Acc: 100.00 %\n",
            "\n",
            "\n",
            "[Fold 3][EPOCH:20]\t Train Loss:0.0001\t Train Acc:100.00 %  | \tValid Loss:0.0000 \tValid Acc: 100.00 %\n",
            "\n",
            "\n",
            "[Fold 4][EPOCH:1]\t Train Loss:0.0001\t Train Acc:100.00 %  | \tValid Loss:0.0000 \tValid Acc: 100.00 %\n",
            "\n",
            "\n",
            "[Fold 4][EPOCH:2]\t Train Loss:0.0003\t Train Acc:99.83 %  | \tValid Loss:0.0000 \tValid Acc: 100.00 %\n",
            "\n"
          ]
        },
        {
          "output_type": "stream",
          "name": "stderr",
          "text": [
            "/usr/local/lib/python3.10/dist-packages/PIL/Image.py:3167: DecompressionBombWarning: Image size (106138650 pixels) exceeds limit of 89478485 pixels, could be decompression bomb DOS attack.\n",
            "  warnings.warn(\n",
            "/usr/local/lib/python3.10/dist-packages/PIL/Image.py:3167: DecompressionBombWarning: Image size (106368990 pixels) exceeds limit of 89478485 pixels, could be decompression bomb DOS attack.\n",
            "  warnings.warn(\n"
          ]
        },
        {
          "output_type": "stream",
          "name": "stdout",
          "text": [
            "\n",
            "[Fold 4][EPOCH:3]\t Train Loss:0.0001\t Train Acc:100.00 %  | \tValid Loss:0.0000 \tValid Acc: 100.00 %\n",
            "\n"
          ]
        },
        {
          "output_type": "stream",
          "name": "stderr",
          "text": [
            "/usr/local/lib/python3.10/dist-packages/PIL/Image.py:3167: DecompressionBombWarning: Image size (109476194 pixels) exceeds limit of 89478485 pixels, could be decompression bomb DOS attack.\n",
            "  warnings.warn(\n"
          ]
        },
        {
          "output_type": "stream",
          "name": "stdout",
          "text": [
            "\n",
            "[Fold 4][EPOCH:4]\t Train Loss:0.0001\t Train Acc:100.00 %  | \tValid Loss:0.0000 \tValid Acc: 100.00 %\n",
            "\n"
          ]
        },
        {
          "output_type": "stream",
          "name": "stderr",
          "text": [
            "/usr/local/lib/python3.10/dist-packages/PIL/Image.py:3167: DecompressionBombWarning: Image size (103277452 pixels) exceeds limit of 89478485 pixels, could be decompression bomb DOS attack.\n",
            "  warnings.warn(\n"
          ]
        },
        {
          "output_type": "stream",
          "name": "stdout",
          "text": [
            "\n",
            "[Fold 4][EPOCH:5]\t Train Loss:0.0001\t Train Acc:100.00 %  | \tValid Loss:0.0000 \tValid Acc: 100.00 %\n",
            "\n",
            "\n",
            "[Fold 4][EPOCH:6]\t Train Loss:0.0001\t Train Acc:100.00 %  | \tValid Loss:0.0000 \tValid Acc: 100.00 %\n",
            "\n"
          ]
        },
        {
          "output_type": "stream",
          "name": "stderr",
          "text": [
            "/usr/local/lib/python3.10/dist-packages/PIL/Image.py:3167: DecompressionBombWarning: Image size (107170877 pixels) exceeds limit of 89478485 pixels, could be decompression bomb DOS attack.\n",
            "  warnings.warn(\n"
          ]
        },
        {
          "output_type": "stream",
          "name": "stdout",
          "text": [
            "\n",
            "[Fold 4][EPOCH:7]\t Train Loss:0.0001\t Train Acc:100.00 %  | \tValid Loss:0.0000 \tValid Acc: 100.00 %\n",
            "\n"
          ]
        },
        {
          "output_type": "stream",
          "name": "stderr",
          "text": [
            "/usr/local/lib/python3.10/dist-packages/PIL/Image.py:3167: DecompressionBombWarning: Image size (104239308 pixels) exceeds limit of 89478485 pixels, could be decompression bomb DOS attack.\n",
            "  warnings.warn(\n",
            "/usr/local/lib/python3.10/dist-packages/PIL/Image.py:3167: DecompressionBombWarning: Image size (106827987 pixels) exceeds limit of 89478485 pixels, could be decompression bomb DOS attack.\n",
            "  warnings.warn(\n"
          ]
        },
        {
          "output_type": "stream",
          "name": "stdout",
          "text": [
            "\n",
            "[Fold 4][EPOCH:8]\t Train Loss:0.0001\t Train Acc:100.00 %  | \tValid Loss:0.0000 \tValid Acc: 100.00 %\n",
            "\n",
            "\n",
            "[Fold 4][EPOCH:9]\t Train Loss:0.0001\t Train Acc:100.00 %  | \tValid Loss:0.0000 \tValid Acc: 100.00 %\n",
            "\n"
          ]
        },
        {
          "output_type": "stream",
          "name": "stderr",
          "text": [
            "/usr/local/lib/python3.10/dist-packages/PIL/Image.py:3167: DecompressionBombWarning: Image size (104839438 pixels) exceeds limit of 89478485 pixels, could be decompression bomb DOS attack.\n",
            "  warnings.warn(\n"
          ]
        },
        {
          "output_type": "stream",
          "name": "stdout",
          "text": [
            "\n",
            "[Fold 4][EPOCH:10]\t Train Loss:0.0025\t Train Acc:99.66 %  | \tValid Loss:0.0000 \tValid Acc: 100.00 %\n",
            "\n"
          ]
        },
        {
          "output_type": "stream",
          "name": "stderr",
          "text": [
            "/usr/local/lib/python3.10/dist-packages/PIL/Image.py:3167: DecompressionBombWarning: Image size (102996702 pixels) exceeds limit of 89478485 pixels, could be decompression bomb DOS attack.\n",
            "  warnings.warn(\n"
          ]
        },
        {
          "output_type": "stream",
          "name": "stdout",
          "text": [
            "\n",
            "[Fold 4][EPOCH:11]\t Train Loss:0.0001\t Train Acc:100.00 %  | \tValid Loss:0.0000 \tValid Acc: 100.00 %\n",
            "\n",
            "\n",
            "[Fold 4][EPOCH:12]\t Train Loss:0.0025\t Train Acc:99.83 %  | \tValid Loss:0.0000 \tValid Acc: 100.00 %\n",
            "\n"
          ]
        },
        {
          "output_type": "stream",
          "name": "stderr",
          "text": [
            "/usr/local/lib/python3.10/dist-packages/PIL/Image.py:3167: DecompressionBombWarning: Image size (108289076 pixels) exceeds limit of 89478485 pixels, could be decompression bomb DOS attack.\n",
            "  warnings.warn(\n"
          ]
        },
        {
          "output_type": "stream",
          "name": "stdout",
          "text": [
            "\n",
            "[Fold 4][EPOCH:13]\t Train Loss:0.0001\t Train Acc:100.00 %  | \tValid Loss:0.0000 \tValid Acc: 100.00 %\n",
            "\n"
          ]
        },
        {
          "output_type": "stream",
          "name": "stderr",
          "text": [
            "/usr/local/lib/python3.10/dist-packages/PIL/Image.py:3167: DecompressionBombWarning: Image size (104861248 pixels) exceeds limit of 89478485 pixels, could be decompression bomb DOS attack.\n",
            "  warnings.warn(\n"
          ]
        },
        {
          "output_type": "stream",
          "name": "stdout",
          "text": [
            "\n",
            "[Fold 4][EPOCH:14]\t Train Loss:0.0001\t Train Acc:100.00 %  | \tValid Loss:0.0000 \tValid Acc: 100.00 %\n",
            "\n"
          ]
        },
        {
          "output_type": "stream",
          "name": "stderr",
          "text": [
            "/usr/local/lib/python3.10/dist-packages/PIL/Image.py:3167: DecompressionBombWarning: Image size (104806403 pixels) exceeds limit of 89478485 pixels, could be decompression bomb DOS attack.\n",
            "  warnings.warn(\n"
          ]
        },
        {
          "output_type": "stream",
          "name": "stdout",
          "text": [
            "\n",
            "[Fold 4][EPOCH:15]\t Train Loss:0.0001\t Train Acc:100.00 %  | \tValid Loss:0.0000 \tValid Acc: 100.00 %\n",
            "\n"
          ]
        },
        {
          "output_type": "stream",
          "name": "stderr",
          "text": [
            "/usr/local/lib/python3.10/dist-packages/PIL/Image.py:3167: DecompressionBombWarning: Image size (109441728 pixels) exceeds limit of 89478485 pixels, could be decompression bomb DOS attack.\n",
            "  warnings.warn(\n",
            "/usr/local/lib/python3.10/dist-packages/PIL/Image.py:3167: DecompressionBombWarning: Image size (103309986 pixels) exceeds limit of 89478485 pixels, could be decompression bomb DOS attack.\n",
            "  warnings.warn(\n",
            "/usr/local/lib/python3.10/dist-packages/PIL/Image.py:3167: DecompressionBombWarning: Image size (105870135 pixels) exceeds limit of 89478485 pixels, could be decompression bomb DOS attack.\n",
            "  warnings.warn(\n"
          ]
        },
        {
          "output_type": "stream",
          "name": "stdout",
          "text": [
            "\n",
            "[Fold 4][EPOCH:16]\t Train Loss:0.0001\t Train Acc:100.00 %  | \tValid Loss:0.0000 \tValid Acc: 100.00 %\n",
            "\n"
          ]
        },
        {
          "output_type": "stream",
          "name": "stderr",
          "text": [
            "/usr/local/lib/python3.10/dist-packages/PIL/Image.py:3167: DecompressionBombWarning: Image size (106158364 pixels) exceeds limit of 89478485 pixels, could be decompression bomb DOS attack.\n",
            "  warnings.warn(\n"
          ]
        },
        {
          "output_type": "stream",
          "name": "stdout",
          "text": [
            "\n",
            "[Fold 4][EPOCH:17]\t Train Loss:0.0001\t Train Acc:100.00 %  | \tValid Loss:0.0000 \tValid Acc: 100.00 %\n",
            "\n",
            "\n",
            "[Fold 4][EPOCH:18]\t Train Loss:0.0025\t Train Acc:99.83 %  | \tValid Loss:0.0000 \tValid Acc: 100.00 %\n",
            "\n",
            "\n",
            "[Fold 4][EPOCH:19]\t Train Loss:0.0001\t Train Acc:100.00 %  | \tValid Loss:0.0000 \tValid Acc: 100.00 %\n",
            "\n",
            "\n",
            "[Fold 4][EPOCH:20]\t Train Loss:0.0015\t Train Acc:99.66 %  | \tValid Loss:0.0000 \tValid Acc: 100.00 %\n",
            "\n"
          ]
        }
      ],
      "source": [
        "import os\n",
        "import numpy as np\n",
        "from sklearn.model_selection import KFold\n",
        "from copy import deepcopy\n",
        "# Define the number of folds\n",
        "num_folds = 5  # You can change this number as needed\n",
        "\n",
        "# Initialize lists to store results for each fold\n",
        "all_train_losses = []\n",
        "all_train_accuracies = []\n",
        "all_valid_losses = []\n",
        "all_valid_accuracies = []\n",
        "\n",
        "best_acc = 0\n",
        "best_f1 = 0\n",
        "best_acc_model = None\n",
        "best_f1_model = None\n",
        "\n",
        "# Create a KFold object to split your data\n",
        "kf = KFold(n_splits=num_folds, shuffle=True, random_state=42)\n",
        "\n",
        "for fold, (train_indices, valid_indices) in enumerate(kf.split(dataset)):\n",
        "    train_data = torch.utils.data.Subset(dataset, train_indices)\n",
        "    valid_data = torch.utils.data.Subset(dataset, valid_indices)\n",
        "\n",
        "    train_loader = DataLoader(train_data, batch_size=BATCH_SIZE, shuffle=True)\n",
        "    validation_loader = DataLoader(valid_data, batch_size=BATCH_SIZE)\n",
        "\n",
        "    train_losses = []\n",
        "    train_accuracies = []\n",
        "    valid_losses = []\n",
        "    valid_accuracies = []\n",
        "\n",
        "    for Epoch in range(1, EPOCHS+1):\n",
        "        train_loss, train_accuracy = train(model, train_loader, optimizer, log_interval=31)\n",
        "        valid_loss, valid_accuracy, _ = evaluate(model, validation_loader)\n",
        "        wandb.log({\"Training loss\": train_loss, \"Train Acc\": train_accuracy, \"Val loss\": valid_loss, \"Val Acc\": valid_accuracy})\n",
        "\n",
        "        train_losses.append(train_loss)\n",
        "        train_accuracies.append(train_accuracy)\n",
        "        valid_losses.append(valid_loss)\n",
        "        valid_accuracies.append(valid_accuracy)\n",
        "\n",
        "        scheduler.step()\n",
        "\n",
        "        print(\"\\n[Fold {}][EPOCH:{}]\\t Train Loss:{:.4f}\\t Train Acc:{:.2f} %  | \\tValid Loss:{:.4f} \\tValid Acc: {:.2f} %\\n\".format(fold, Epoch, train_loss, train_accuracy, valid_loss, valid_accuracy))\n",
        "\n",
        "    all_train_losses.append(train_losses)\n",
        "    all_train_accuracies.append(train_accuracies)\n",
        "    all_valid_losses.append(valid_losses)\n",
        "    all_valid_accuracies.append(valid_accuracies)\n",
        "\n"
      ]
    },
    {
      "cell_type": "code",
      "source": [
        "import torch\n",
        "import torchvision.models as models\n",
        "import torch.nn as nn\n",
        "\n",
        "best_model_state = deepcopy(model.state_dict())\n",
        "\n",
        "# Specify the path where you want to save the model's parameters\n",
        "save_path = '/content/drive/MyDrive/느티나무 질병 데이터셋/Parameter'\n",
        "\n",
        "# Save only the model parameters (state_dict)\n",
        "torch.save(model.state_dict(), save_path + '/efficientnet-b7 2_1')"
      ],
      "metadata": {
        "id": "6rB_-y1rKRoE"
      },
      "execution_count": null,
      "outputs": []
    },
    {
      "cell_type": "markdown",
      "metadata": {
        "id": "d6PrCXwfpP7R"
      },
      "source": [
        "#성능 평가"
      ]
    },
    {
      "cell_type": "code",
      "source": [
        "import torch\n",
        "import torch.nn as nn\n",
        "import torchvision.models as models\n",
        "from efficientnet_pytorch import EfficientNet\n",
        "\n",
        "# Load the pre-trained EfficientNet model\n",
        "loaded_model = EfficientNet.from_pretrained('efficientnet-b7')\n",
        "\n",
        "# Load the state dictionary from the saved file\n",
        "state_dict = torch.load('/content/drive/MyDrive/느티나무 질병 데이터셋/Parameter/efficientnet-b7 2_1')\n",
        "\n",
        "# Adjust the state dictionary keys based on the actual structure of your custom model\n",
        "state_dict = {k.replace(\"features\", \"your_custom_layers\"): v for k, v in state_dict.items()}\n",
        "\n",
        "# Modify the last layer of the model to match the number of classes in your task (binary classification)\n",
        "num_classes = 2\n",
        "loaded_model._fc = nn.Linear(loaded_model._fc.in_features, num_classes)\n",
        "\n",
        "# Load the modified state dictionary into the model\n",
        "loaded_model.load_state_dict(state_dict)\n",
        "\n",
        "# Move the model to the specified device (assuming DEVICE is defined elsewhere)\n",
        "loaded_model.to(DEVICE)"
      ],
      "metadata": {
        "id": "vLlvZ54TDrfY",
        "colab": {
          "base_uri": "https://localhost:8080/"
        },
        "outputId": "f1a25efa-c5ca-425f-b4e9-a80611ea80f1"
      },
      "execution_count": null,
      "outputs": [
        {
          "output_type": "stream",
          "name": "stderr",
          "text": [
            "Downloading: \"https://github.com/lukemelas/EfficientNet-PyTorch/releases/download/1.0/efficientnet-b7-dcc49843.pth\" to /root/.cache/torch/hub/checkpoints/efficientnet-b7-dcc49843.pth\n",
            "100%|██████████| 254M/254M [00:00<00:00, 334MB/s]\n"
          ]
        },
        {
          "output_type": "stream",
          "name": "stdout",
          "text": [
            "Loaded pretrained weights for efficientnet-b7\n"
          ]
        },
        {
          "output_type": "execute_result",
          "data": {
            "text/plain": [
              "EfficientNet(\n",
              "  (_conv_stem): Conv2dStaticSamePadding(\n",
              "    3, 64, kernel_size=(3, 3), stride=(2, 2), bias=False\n",
              "    (static_padding): ZeroPad2d((0, 1, 0, 1))\n",
              "  )\n",
              "  (_bn0): BatchNorm2d(64, eps=0.001, momentum=0.010000000000000009, affine=True, track_running_stats=True)\n",
              "  (_blocks): ModuleList(\n",
              "    (0): MBConvBlock(\n",
              "      (_depthwise_conv): Conv2dStaticSamePadding(\n",
              "        64, 64, kernel_size=(3, 3), stride=[1, 1], groups=64, bias=False\n",
              "        (static_padding): ZeroPad2d((1, 1, 1, 1))\n",
              "      )\n",
              "      (_bn1): BatchNorm2d(64, eps=0.001, momentum=0.010000000000000009, affine=True, track_running_stats=True)\n",
              "      (_se_reduce): Conv2dStaticSamePadding(\n",
              "        64, 16, kernel_size=(1, 1), stride=(1, 1)\n",
              "        (static_padding): Identity()\n",
              "      )\n",
              "      (_se_expand): Conv2dStaticSamePadding(\n",
              "        16, 64, kernel_size=(1, 1), stride=(1, 1)\n",
              "        (static_padding): Identity()\n",
              "      )\n",
              "      (_project_conv): Conv2dStaticSamePadding(\n",
              "        64, 32, kernel_size=(1, 1), stride=(1, 1), bias=False\n",
              "        (static_padding): Identity()\n",
              "      )\n",
              "      (_bn2): BatchNorm2d(32, eps=0.001, momentum=0.010000000000000009, affine=True, track_running_stats=True)\n",
              "      (_swish): MemoryEfficientSwish()\n",
              "    )\n",
              "    (1-3): 3 x MBConvBlock(\n",
              "      (_depthwise_conv): Conv2dStaticSamePadding(\n",
              "        32, 32, kernel_size=(3, 3), stride=(1, 1), groups=32, bias=False\n",
              "        (static_padding): ZeroPad2d((1, 1, 1, 1))\n",
              "      )\n",
              "      (_bn1): BatchNorm2d(32, eps=0.001, momentum=0.010000000000000009, affine=True, track_running_stats=True)\n",
              "      (_se_reduce): Conv2dStaticSamePadding(\n",
              "        32, 8, kernel_size=(1, 1), stride=(1, 1)\n",
              "        (static_padding): Identity()\n",
              "      )\n",
              "      (_se_expand): Conv2dStaticSamePadding(\n",
              "        8, 32, kernel_size=(1, 1), stride=(1, 1)\n",
              "        (static_padding): Identity()\n",
              "      )\n",
              "      (_project_conv): Conv2dStaticSamePadding(\n",
              "        32, 32, kernel_size=(1, 1), stride=(1, 1), bias=False\n",
              "        (static_padding): Identity()\n",
              "      )\n",
              "      (_bn2): BatchNorm2d(32, eps=0.001, momentum=0.010000000000000009, affine=True, track_running_stats=True)\n",
              "      (_swish): MemoryEfficientSwish()\n",
              "    )\n",
              "    (4): MBConvBlock(\n",
              "      (_expand_conv): Conv2dStaticSamePadding(\n",
              "        32, 192, kernel_size=(1, 1), stride=(1, 1), bias=False\n",
              "        (static_padding): Identity()\n",
              "      )\n",
              "      (_bn0): BatchNorm2d(192, eps=0.001, momentum=0.010000000000000009, affine=True, track_running_stats=True)\n",
              "      (_depthwise_conv): Conv2dStaticSamePadding(\n",
              "        192, 192, kernel_size=(3, 3), stride=[2, 2], groups=192, bias=False\n",
              "        (static_padding): ZeroPad2d((0, 1, 0, 1))\n",
              "      )\n",
              "      (_bn1): BatchNorm2d(192, eps=0.001, momentum=0.010000000000000009, affine=True, track_running_stats=True)\n",
              "      (_se_reduce): Conv2dStaticSamePadding(\n",
              "        192, 8, kernel_size=(1, 1), stride=(1, 1)\n",
              "        (static_padding): Identity()\n",
              "      )\n",
              "      (_se_expand): Conv2dStaticSamePadding(\n",
              "        8, 192, kernel_size=(1, 1), stride=(1, 1)\n",
              "        (static_padding): Identity()\n",
              "      )\n",
              "      (_project_conv): Conv2dStaticSamePadding(\n",
              "        192, 48, kernel_size=(1, 1), stride=(1, 1), bias=False\n",
              "        (static_padding): Identity()\n",
              "      )\n",
              "      (_bn2): BatchNorm2d(48, eps=0.001, momentum=0.010000000000000009, affine=True, track_running_stats=True)\n",
              "      (_swish): MemoryEfficientSwish()\n",
              "    )\n",
              "    (5-10): 6 x MBConvBlock(\n",
              "      (_expand_conv): Conv2dStaticSamePadding(\n",
              "        48, 288, kernel_size=(1, 1), stride=(1, 1), bias=False\n",
              "        (static_padding): Identity()\n",
              "      )\n",
              "      (_bn0): BatchNorm2d(288, eps=0.001, momentum=0.010000000000000009, affine=True, track_running_stats=True)\n",
              "      (_depthwise_conv): Conv2dStaticSamePadding(\n",
              "        288, 288, kernel_size=(3, 3), stride=(1, 1), groups=288, bias=False\n",
              "        (static_padding): ZeroPad2d((1, 1, 1, 1))\n",
              "      )\n",
              "      (_bn1): BatchNorm2d(288, eps=0.001, momentum=0.010000000000000009, affine=True, track_running_stats=True)\n",
              "      (_se_reduce): Conv2dStaticSamePadding(\n",
              "        288, 12, kernel_size=(1, 1), stride=(1, 1)\n",
              "        (static_padding): Identity()\n",
              "      )\n",
              "      (_se_expand): Conv2dStaticSamePadding(\n",
              "        12, 288, kernel_size=(1, 1), stride=(1, 1)\n",
              "        (static_padding): Identity()\n",
              "      )\n",
              "      (_project_conv): Conv2dStaticSamePadding(\n",
              "        288, 48, kernel_size=(1, 1), stride=(1, 1), bias=False\n",
              "        (static_padding): Identity()\n",
              "      )\n",
              "      (_bn2): BatchNorm2d(48, eps=0.001, momentum=0.010000000000000009, affine=True, track_running_stats=True)\n",
              "      (_swish): MemoryEfficientSwish()\n",
              "    )\n",
              "    (11): MBConvBlock(\n",
              "      (_expand_conv): Conv2dStaticSamePadding(\n",
              "        48, 288, kernel_size=(1, 1), stride=(1, 1), bias=False\n",
              "        (static_padding): Identity()\n",
              "      )\n",
              "      (_bn0): BatchNorm2d(288, eps=0.001, momentum=0.010000000000000009, affine=True, track_running_stats=True)\n",
              "      (_depthwise_conv): Conv2dStaticSamePadding(\n",
              "        288, 288, kernel_size=(5, 5), stride=[2, 2], groups=288, bias=False\n",
              "        (static_padding): ZeroPad2d((1, 2, 1, 2))\n",
              "      )\n",
              "      (_bn1): BatchNorm2d(288, eps=0.001, momentum=0.010000000000000009, affine=True, track_running_stats=True)\n",
              "      (_se_reduce): Conv2dStaticSamePadding(\n",
              "        288, 12, kernel_size=(1, 1), stride=(1, 1)\n",
              "        (static_padding): Identity()\n",
              "      )\n",
              "      (_se_expand): Conv2dStaticSamePadding(\n",
              "        12, 288, kernel_size=(1, 1), stride=(1, 1)\n",
              "        (static_padding): Identity()\n",
              "      )\n",
              "      (_project_conv): Conv2dStaticSamePadding(\n",
              "        288, 80, kernel_size=(1, 1), stride=(1, 1), bias=False\n",
              "        (static_padding): Identity()\n",
              "      )\n",
              "      (_bn2): BatchNorm2d(80, eps=0.001, momentum=0.010000000000000009, affine=True, track_running_stats=True)\n",
              "      (_swish): MemoryEfficientSwish()\n",
              "    )\n",
              "    (12-17): 6 x MBConvBlock(\n",
              "      (_expand_conv): Conv2dStaticSamePadding(\n",
              "        80, 480, kernel_size=(1, 1), stride=(1, 1), bias=False\n",
              "        (static_padding): Identity()\n",
              "      )\n",
              "      (_bn0): BatchNorm2d(480, eps=0.001, momentum=0.010000000000000009, affine=True, track_running_stats=True)\n",
              "      (_depthwise_conv): Conv2dStaticSamePadding(\n",
              "        480, 480, kernel_size=(5, 5), stride=(1, 1), groups=480, bias=False\n",
              "        (static_padding): ZeroPad2d((2, 2, 2, 2))\n",
              "      )\n",
              "      (_bn1): BatchNorm2d(480, eps=0.001, momentum=0.010000000000000009, affine=True, track_running_stats=True)\n",
              "      (_se_reduce): Conv2dStaticSamePadding(\n",
              "        480, 20, kernel_size=(1, 1), stride=(1, 1)\n",
              "        (static_padding): Identity()\n",
              "      )\n",
              "      (_se_expand): Conv2dStaticSamePadding(\n",
              "        20, 480, kernel_size=(1, 1), stride=(1, 1)\n",
              "        (static_padding): Identity()\n",
              "      )\n",
              "      (_project_conv): Conv2dStaticSamePadding(\n",
              "        480, 80, kernel_size=(1, 1), stride=(1, 1), bias=False\n",
              "        (static_padding): Identity()\n",
              "      )\n",
              "      (_bn2): BatchNorm2d(80, eps=0.001, momentum=0.010000000000000009, affine=True, track_running_stats=True)\n",
              "      (_swish): MemoryEfficientSwish()\n",
              "    )\n",
              "    (18): MBConvBlock(\n",
              "      (_expand_conv): Conv2dStaticSamePadding(\n",
              "        80, 480, kernel_size=(1, 1), stride=(1, 1), bias=False\n",
              "        (static_padding): Identity()\n",
              "      )\n",
              "      (_bn0): BatchNorm2d(480, eps=0.001, momentum=0.010000000000000009, affine=True, track_running_stats=True)\n",
              "      (_depthwise_conv): Conv2dStaticSamePadding(\n",
              "        480, 480, kernel_size=(3, 3), stride=[2, 2], groups=480, bias=False\n",
              "        (static_padding): ZeroPad2d((1, 1, 1, 1))\n",
              "      )\n",
              "      (_bn1): BatchNorm2d(480, eps=0.001, momentum=0.010000000000000009, affine=True, track_running_stats=True)\n",
              "      (_se_reduce): Conv2dStaticSamePadding(\n",
              "        480, 20, kernel_size=(1, 1), stride=(1, 1)\n",
              "        (static_padding): Identity()\n",
              "      )\n",
              "      (_se_expand): Conv2dStaticSamePadding(\n",
              "        20, 480, kernel_size=(1, 1), stride=(1, 1)\n",
              "        (static_padding): Identity()\n",
              "      )\n",
              "      (_project_conv): Conv2dStaticSamePadding(\n",
              "        480, 160, kernel_size=(1, 1), stride=(1, 1), bias=False\n",
              "        (static_padding): Identity()\n",
              "      )\n",
              "      (_bn2): BatchNorm2d(160, eps=0.001, momentum=0.010000000000000009, affine=True, track_running_stats=True)\n",
              "      (_swish): MemoryEfficientSwish()\n",
              "    )\n",
              "    (19-27): 9 x MBConvBlock(\n",
              "      (_expand_conv): Conv2dStaticSamePadding(\n",
              "        160, 960, kernel_size=(1, 1), stride=(1, 1), bias=False\n",
              "        (static_padding): Identity()\n",
              "      )\n",
              "      (_bn0): BatchNorm2d(960, eps=0.001, momentum=0.010000000000000009, affine=True, track_running_stats=True)\n",
              "      (_depthwise_conv): Conv2dStaticSamePadding(\n",
              "        960, 960, kernel_size=(3, 3), stride=(1, 1), groups=960, bias=False\n",
              "        (static_padding): ZeroPad2d((1, 1, 1, 1))\n",
              "      )\n",
              "      (_bn1): BatchNorm2d(960, eps=0.001, momentum=0.010000000000000009, affine=True, track_running_stats=True)\n",
              "      (_se_reduce): Conv2dStaticSamePadding(\n",
              "        960, 40, kernel_size=(1, 1), stride=(1, 1)\n",
              "        (static_padding): Identity()\n",
              "      )\n",
              "      (_se_expand): Conv2dStaticSamePadding(\n",
              "        40, 960, kernel_size=(1, 1), stride=(1, 1)\n",
              "        (static_padding): Identity()\n",
              "      )\n",
              "      (_project_conv): Conv2dStaticSamePadding(\n",
              "        960, 160, kernel_size=(1, 1), stride=(1, 1), bias=False\n",
              "        (static_padding): Identity()\n",
              "      )\n",
              "      (_bn2): BatchNorm2d(160, eps=0.001, momentum=0.010000000000000009, affine=True, track_running_stats=True)\n",
              "      (_swish): MemoryEfficientSwish()\n",
              "    )\n",
              "    (28): MBConvBlock(\n",
              "      (_expand_conv): Conv2dStaticSamePadding(\n",
              "        160, 960, kernel_size=(1, 1), stride=(1, 1), bias=False\n",
              "        (static_padding): Identity()\n",
              "      )\n",
              "      (_bn0): BatchNorm2d(960, eps=0.001, momentum=0.010000000000000009, affine=True, track_running_stats=True)\n",
              "      (_depthwise_conv): Conv2dStaticSamePadding(\n",
              "        960, 960, kernel_size=(5, 5), stride=[1, 1], groups=960, bias=False\n",
              "        (static_padding): ZeroPad2d((2, 2, 2, 2))\n",
              "      )\n",
              "      (_bn1): BatchNorm2d(960, eps=0.001, momentum=0.010000000000000009, affine=True, track_running_stats=True)\n",
              "      (_se_reduce): Conv2dStaticSamePadding(\n",
              "        960, 40, kernel_size=(1, 1), stride=(1, 1)\n",
              "        (static_padding): Identity()\n",
              "      )\n",
              "      (_se_expand): Conv2dStaticSamePadding(\n",
              "        40, 960, kernel_size=(1, 1), stride=(1, 1)\n",
              "        (static_padding): Identity()\n",
              "      )\n",
              "      (_project_conv): Conv2dStaticSamePadding(\n",
              "        960, 224, kernel_size=(1, 1), stride=(1, 1), bias=False\n",
              "        (static_padding): Identity()\n",
              "      )\n",
              "      (_bn2): BatchNorm2d(224, eps=0.001, momentum=0.010000000000000009, affine=True, track_running_stats=True)\n",
              "      (_swish): MemoryEfficientSwish()\n",
              "    )\n",
              "    (29-37): 9 x MBConvBlock(\n",
              "      (_expand_conv): Conv2dStaticSamePadding(\n",
              "        224, 1344, kernel_size=(1, 1), stride=(1, 1), bias=False\n",
              "        (static_padding): Identity()\n",
              "      )\n",
              "      (_bn0): BatchNorm2d(1344, eps=0.001, momentum=0.010000000000000009, affine=True, track_running_stats=True)\n",
              "      (_depthwise_conv): Conv2dStaticSamePadding(\n",
              "        1344, 1344, kernel_size=(5, 5), stride=(1, 1), groups=1344, bias=False\n",
              "        (static_padding): ZeroPad2d((2, 2, 2, 2))\n",
              "      )\n",
              "      (_bn1): BatchNorm2d(1344, eps=0.001, momentum=0.010000000000000009, affine=True, track_running_stats=True)\n",
              "      (_se_reduce): Conv2dStaticSamePadding(\n",
              "        1344, 56, kernel_size=(1, 1), stride=(1, 1)\n",
              "        (static_padding): Identity()\n",
              "      )\n",
              "      (_se_expand): Conv2dStaticSamePadding(\n",
              "        56, 1344, kernel_size=(1, 1), stride=(1, 1)\n",
              "        (static_padding): Identity()\n",
              "      )\n",
              "      (_project_conv): Conv2dStaticSamePadding(\n",
              "        1344, 224, kernel_size=(1, 1), stride=(1, 1), bias=False\n",
              "        (static_padding): Identity()\n",
              "      )\n",
              "      (_bn2): BatchNorm2d(224, eps=0.001, momentum=0.010000000000000009, affine=True, track_running_stats=True)\n",
              "      (_swish): MemoryEfficientSwish()\n",
              "    )\n",
              "    (38): MBConvBlock(\n",
              "      (_expand_conv): Conv2dStaticSamePadding(\n",
              "        224, 1344, kernel_size=(1, 1), stride=(1, 1), bias=False\n",
              "        (static_padding): Identity()\n",
              "      )\n",
              "      (_bn0): BatchNorm2d(1344, eps=0.001, momentum=0.010000000000000009, affine=True, track_running_stats=True)\n",
              "      (_depthwise_conv): Conv2dStaticSamePadding(\n",
              "        1344, 1344, kernel_size=(5, 5), stride=[2, 2], groups=1344, bias=False\n",
              "        (static_padding): ZeroPad2d((1, 2, 1, 2))\n",
              "      )\n",
              "      (_bn1): BatchNorm2d(1344, eps=0.001, momentum=0.010000000000000009, affine=True, track_running_stats=True)\n",
              "      (_se_reduce): Conv2dStaticSamePadding(\n",
              "        1344, 56, kernel_size=(1, 1), stride=(1, 1)\n",
              "        (static_padding): Identity()\n",
              "      )\n",
              "      (_se_expand): Conv2dStaticSamePadding(\n",
              "        56, 1344, kernel_size=(1, 1), stride=(1, 1)\n",
              "        (static_padding): Identity()\n",
              "      )\n",
              "      (_project_conv): Conv2dStaticSamePadding(\n",
              "        1344, 384, kernel_size=(1, 1), stride=(1, 1), bias=False\n",
              "        (static_padding): Identity()\n",
              "      )\n",
              "      (_bn2): BatchNorm2d(384, eps=0.001, momentum=0.010000000000000009, affine=True, track_running_stats=True)\n",
              "      (_swish): MemoryEfficientSwish()\n",
              "    )\n",
              "    (39-50): 12 x MBConvBlock(\n",
              "      (_expand_conv): Conv2dStaticSamePadding(\n",
              "        384, 2304, kernel_size=(1, 1), stride=(1, 1), bias=False\n",
              "        (static_padding): Identity()\n",
              "      )\n",
              "      (_bn0): BatchNorm2d(2304, eps=0.001, momentum=0.010000000000000009, affine=True, track_running_stats=True)\n",
              "      (_depthwise_conv): Conv2dStaticSamePadding(\n",
              "        2304, 2304, kernel_size=(5, 5), stride=(1, 1), groups=2304, bias=False\n",
              "        (static_padding): ZeroPad2d((2, 2, 2, 2))\n",
              "      )\n",
              "      (_bn1): BatchNorm2d(2304, eps=0.001, momentum=0.010000000000000009, affine=True, track_running_stats=True)\n",
              "      (_se_reduce): Conv2dStaticSamePadding(\n",
              "        2304, 96, kernel_size=(1, 1), stride=(1, 1)\n",
              "        (static_padding): Identity()\n",
              "      )\n",
              "      (_se_expand): Conv2dStaticSamePadding(\n",
              "        96, 2304, kernel_size=(1, 1), stride=(1, 1)\n",
              "        (static_padding): Identity()\n",
              "      )\n",
              "      (_project_conv): Conv2dStaticSamePadding(\n",
              "        2304, 384, kernel_size=(1, 1), stride=(1, 1), bias=False\n",
              "        (static_padding): Identity()\n",
              "      )\n",
              "      (_bn2): BatchNorm2d(384, eps=0.001, momentum=0.010000000000000009, affine=True, track_running_stats=True)\n",
              "      (_swish): MemoryEfficientSwish()\n",
              "    )\n",
              "    (51): MBConvBlock(\n",
              "      (_expand_conv): Conv2dStaticSamePadding(\n",
              "        384, 2304, kernel_size=(1, 1), stride=(1, 1), bias=False\n",
              "        (static_padding): Identity()\n",
              "      )\n",
              "      (_bn0): BatchNorm2d(2304, eps=0.001, momentum=0.010000000000000009, affine=True, track_running_stats=True)\n",
              "      (_depthwise_conv): Conv2dStaticSamePadding(\n",
              "        2304, 2304, kernel_size=(3, 3), stride=[1, 1], groups=2304, bias=False\n",
              "        (static_padding): ZeroPad2d((1, 1, 1, 1))\n",
              "      )\n",
              "      (_bn1): BatchNorm2d(2304, eps=0.001, momentum=0.010000000000000009, affine=True, track_running_stats=True)\n",
              "      (_se_reduce): Conv2dStaticSamePadding(\n",
              "        2304, 96, kernel_size=(1, 1), stride=(1, 1)\n",
              "        (static_padding): Identity()\n",
              "      )\n",
              "      (_se_expand): Conv2dStaticSamePadding(\n",
              "        96, 2304, kernel_size=(1, 1), stride=(1, 1)\n",
              "        (static_padding): Identity()\n",
              "      )\n",
              "      (_project_conv): Conv2dStaticSamePadding(\n",
              "        2304, 640, kernel_size=(1, 1), stride=(1, 1), bias=False\n",
              "        (static_padding): Identity()\n",
              "      )\n",
              "      (_bn2): BatchNorm2d(640, eps=0.001, momentum=0.010000000000000009, affine=True, track_running_stats=True)\n",
              "      (_swish): MemoryEfficientSwish()\n",
              "    )\n",
              "    (52-54): 3 x MBConvBlock(\n",
              "      (_expand_conv): Conv2dStaticSamePadding(\n",
              "        640, 3840, kernel_size=(1, 1), stride=(1, 1), bias=False\n",
              "        (static_padding): Identity()\n",
              "      )\n",
              "      (_bn0): BatchNorm2d(3840, eps=0.001, momentum=0.010000000000000009, affine=True, track_running_stats=True)\n",
              "      (_depthwise_conv): Conv2dStaticSamePadding(\n",
              "        3840, 3840, kernel_size=(3, 3), stride=(1, 1), groups=3840, bias=False\n",
              "        (static_padding): ZeroPad2d((1, 1, 1, 1))\n",
              "      )\n",
              "      (_bn1): BatchNorm2d(3840, eps=0.001, momentum=0.010000000000000009, affine=True, track_running_stats=True)\n",
              "      (_se_reduce): Conv2dStaticSamePadding(\n",
              "        3840, 160, kernel_size=(1, 1), stride=(1, 1)\n",
              "        (static_padding): Identity()\n",
              "      )\n",
              "      (_se_expand): Conv2dStaticSamePadding(\n",
              "        160, 3840, kernel_size=(1, 1), stride=(1, 1)\n",
              "        (static_padding): Identity()\n",
              "      )\n",
              "      (_project_conv): Conv2dStaticSamePadding(\n",
              "        3840, 640, kernel_size=(1, 1), stride=(1, 1), bias=False\n",
              "        (static_padding): Identity()\n",
              "      )\n",
              "      (_bn2): BatchNorm2d(640, eps=0.001, momentum=0.010000000000000009, affine=True, track_running_stats=True)\n",
              "      (_swish): MemoryEfficientSwish()\n",
              "    )\n",
              "  )\n",
              "  (_conv_head): Conv2dStaticSamePadding(\n",
              "    640, 2560, kernel_size=(1, 1), stride=(1, 1), bias=False\n",
              "    (static_padding): Identity()\n",
              "  )\n",
              "  (_bn1): BatchNorm2d(2560, eps=0.001, momentum=0.010000000000000009, affine=True, track_running_stats=True)\n",
              "  (_avg_pooling): AdaptiveAvgPool2d(output_size=1)\n",
              "  (_dropout): Dropout(p=0.5, inplace=False)\n",
              "  (_fc): Linear(in_features=2560, out_features=2, bias=True)\n",
              "  (_swish): MemoryEfficientSwish()\n",
              ")"
            ]
          },
          "metadata": {},
          "execution_count": 4
        }
      ]
    },
    {
      "cell_type": "code",
      "source": [
        "def count_parameters(model):\n",
        "    return sum(p.numel() for p in model.parameters() if p.requires_grad)\n",
        "\n",
        "\n",
        "# Print the total number of parameters in the model\n",
        "total_parameters = count_parameters(loaded_model)\n",
        "print(f'Total number of parameters: {total_parameters}')"
      ],
      "metadata": {
        "colab": {
          "base_uri": "https://localhost:8080/"
        },
        "id": "eLaz_2gaklmO",
        "outputId": "ca11715b-2255-40a0-9a28-bff82ce978ba"
      },
      "execution_count": null,
      "outputs": [
        {
          "output_type": "stream",
          "name": "stdout",
          "text": [
            "Total number of parameters: 63792082\n"
          ]
        }
      ]
    },
    {
      "cell_type": "code",
      "execution_count": null,
      "metadata": {
        "id": "Ct9A5EM_WP7I"
      },
      "outputs": [],
      "source": [
        "test_data_dir = '/content/drive/MyDrive/느티나무 질병 데이터셋/test'\n",
        "transform_test = transforms.Compose([\n",
        "    transforms.Resize((224, 224)),  # Resize to the same size used in training\n",
        "    transforms.ToTensor(),  # Convert to a tensor\n",
        "    transforms.Normalize((0.5, 0.5, 0.5), (0.5, 0.5, 0.5))  # Normalize using the same mean and standard deviation as training\n",
        "])\n",
        "test_dataset = ImageFolder(root=test_data_dir, transform=transform_test)\n",
        "\n",
        "test_loader = DataLoader(dataset=test_dataset, batch_size=BATCH_SIZE, shuffle=True, num_workers=8)"
      ]
    },
    {
      "cell_type": "code",
      "execution_count": null,
      "metadata": {
        "id": "AA95_2sCpZsZ"
      },
      "outputs": [],
      "source": [
        "def evaluate2(model,test_loader):\n",
        "    model.eval()\n",
        "    misclassified_images = []\n",
        "    test_loss = 0\n",
        "    correct = 0\n",
        "    test_losses=[]\n",
        "    test_acc=[]\n",
        "    indexes = [0, 1]\n",
        "\n",
        "    # 예측과 실제 라벨 리스트 초기화\n",
        "    all_predictions = []\n",
        "    all_labels = []\n",
        "\n",
        "    test_loss = 0\n",
        "    test_a = 0\n",
        "    #no_grad : 그래디언트 값 계산 막기.\n",
        "    with torch.no_grad():\n",
        "        for image, label in test_loader:\n",
        "            image = image.to(DEVICE)\n",
        "            label = label.to(DEVICE)\n",
        "            output = model(image)\n",
        "            test_loss += criterion(output, label).item()\n",
        "\n",
        "            prediction = output.max(1,keepdim=True)[1] # 가장 확률이 높은 class 1개를 가져온다.그리고 인덱스만\n",
        "            correct += prediction.eq(label.view_as(prediction)).sum().item()# 아웃풋이 배치 사이즈 32개라서.\n",
        "\n",
        "            all_predictions.extend(prediction.cpu().numpy())\n",
        "            all_labels.extend(label.cpu().numpy())\n",
        "            # Check for misclassified images\n",
        "            for i in range(label.size(0)):\n",
        "                if prediction[i] != label[i]:\n",
        "                    misclassified_images.append((image[i], prediction[i], label[i]))\n",
        "\n",
        "        test_loss /= len(test_loader.dataset)\n",
        "        test_a = 100. * correct / len(test_loader.dataset)\n",
        "\n",
        "        return test_loss, test_a, misclassified_images, all_predictions, all_labels"
      ]
    },
    {
      "cell_type": "code",
      "execution_count": null,
      "metadata": {
        "id": "eRUnGfILpdBp",
        "colab": {
          "base_uri": "https://localhost:8080/"
        },
        "outputId": "bdbaac04-e453-460d-91e6-8ed23a160c35"
      },
      "outputs": [
        {
          "output_type": "stream",
          "name": "stdout",
          "text": [
            "test_loss:  0.000682311740119255 test_acc 100.0\n"
          ]
        }
      ],
      "source": [
        "test_loss, test_a, misclassified_images, all_predictions, all_labels = evaluate2(loaded_model, test_loader)\n",
        "\n",
        "print(\"test_loss: \", test_loss, \"test_acc\", test_a)"
      ]
    },
    {
      "cell_type": "code",
      "source": [
        "classes = [\"disease\",\"healthy\"]\n",
        "\n",
        "import seaborn as sns\n",
        "from sklearn.metrics import confusion_matrix, accuracy_score, precision_score, recall_score, f1_score\n",
        "\n",
        "# Confusion matrix 계산\n",
        "cm = confusion_matrix(all_labels, all_predictions)\n",
        "\n",
        "# 정확도, 정밀도, 재현율, F1 점수 계산\n",
        "accuracy = accuracy_score(all_labels, all_predictions)\n",
        "precision = precision_score(all_labels, all_predictions, average='weighted')\n",
        "recall = recall_score(all_labels, all_predictions, average='weighted')\n",
        "f1 = f1_score(all_labels, all_predictions, average='weighted')\n",
        "\n",
        "# 시각화\n",
        "plt.figure(figsize=(10, 8))\n",
        "sns.heatmap(cm, annot=True, fmt='d', cmap='Blues', xticklabels=classes, yticklabels=classes)\n",
        "plt.xlabel('Predicted')\n",
        "plt.ylabel('True')\n",
        "plt.title('Confusion Matrix')\n",
        "\n",
        "# 출력\n",
        "print(f'Accuracy: {accuracy:.4f}')\n",
        "print(f'Precision: {precision:.4f}')\n",
        "print(f'Recall: {recall:.4f}')\n",
        "print(f'F1 Score: {f1:.4f}')\n",
        "\n",
        "plt.show()"
      ],
      "metadata": {
        "colab": {
          "base_uri": "https://localhost:8080/",
          "height": 786
        },
        "id": "QJ55loEeJjU3",
        "outputId": "047c2923-8444-4320-cad6-0bf7e9b32952"
      },
      "execution_count": null,
      "outputs": [
        {
          "output_type": "stream",
          "name": "stdout",
          "text": [
            "Accuracy: 1.0000\n",
            "Precision: 1.0000\n",
            "Recall: 1.0000\n",
            "F1 Score: 1.0000\n"
          ]
        },
        {
          "output_type": "display_data",
          "data": {
            "text/plain": [
              "<Figure size 1000x800 with 2 Axes>"
            ],
            "image/png": "[encoded data removed]"
          },
          "metadata": {}
        }
      ]
    },
    {
      "cell_type": "code",
      "execution_count": null,
      "metadata": {
        "id": "3Wo2Hchy0g9d",
        "colab": {
          "base_uri": "https://localhost:8080/"
        },
        "outputId": "7cf6d853-ac11-490c-a23a-a5f17e2631b4"
      },
      "outputs": [
        {
          "output_type": "execute_result",
          "data": {
            "text/plain": [
              "0"
            ]
          },
          "metadata": {},
          "execution_count": 27
        }
      ],
      "source": [
        "len(misclassified_images)"
      ]
    },
    {
      "cell_type": "code",
      "execution_count": null,
      "metadata": {
        "id": "G1fCh_c-pRcx"
      },
      "outputs": [],
      "source": [
        "# Assuming you have defined the 'classes' list and 'misclassified_images' list before this code snippet\n",
        "\n",
        "# Set the number of rows and columns for the grid\n",
        "num_rows = 3\n",
        "num_columns = 5\n",
        "\n",
        "for class_index in range(len(classes)):\n",
        "    # Get misclassified images for the current class\n",
        "    misclassified_images_class = [(image, predicted_label, true_label) for image, predicted_label, true_label in misclassified_images if true_label == class_index]\n",
        "\n",
        "    if not misclassified_images_class:\n",
        "        continue\n",
        "\n",
        "    # Print class name\n",
        "    print(f\"\\nClass {classes[class_index]}:\")\n",
        "\n",
        "    # Display misclassified images for the current class\n",
        "    num_images = min(num_rows * num_columns, len(misclassified_images_class))\n",
        "    fig, axes = plt.subplots(num_rows, num_columns, figsize=(15, 8))\n",
        "\n",
        "    for i in range(num_rows):\n",
        "        for j in range(num_columns):\n",
        "            index = i * num_columns + j\n",
        "            if index < num_images:\n",
        "                # Reshape the image tensor and convert it to a NumPy array\n",
        "                image = misclassified_images_class[index][0].permute(1, 2, 0).cpu().numpy()\n",
        "\n",
        "                # Display the image with adjusted size\n",
        "                axes[i, j].imshow(image)\n",
        "                axes[i, j].set_title(f\"Pred: {classes[misclassified_images_class[index][1] % len(classes)]}, True: {classes[misclassified_images_class[index][2]]}\")\n",
        "                axes[i, j].axis('off')\n",
        "\n",
        "    plt.tight_layout()\n",
        "    plt.show()"
      ]
    },
    {
      "cell_type": "code",
      "source": [
        "! git clone https://github.com/FrancescoSaverioZuppichini/A-journey-into-Convolutional-Neural-Network-visualization-.git"
      ],
      "metadata": {
        "colab": {
          "base_uri": "https://localhost:8080/"
        },
        "id": "G4RPwgjvq4hD",
        "outputId": "f87e7a4b-b038-40ad-e34b-d81bfa9e4736"
      },
      "execution_count": null,
      "outputs": [
        {
          "output_type": "stream",
          "name": "stdout",
          "text": [
            "Cloning into 'A-journey-into-Convolutional-Neural-Network-visualization-'...\n",
            "remote: Enumerating objects: 238, done.\u001b[K\n",
            "remote: Total 238 (delta 0), reused 0 (delta 0), pack-reused 238\u001b[K\n",
            "Receiving objects: 100% (238/238), 106.41 MiB | 20.54 MiB/s, done.\n",
            "Resolving deltas: 100% (70/70), done.\n"
          ]
        }
      ]
    },
    {
      "cell_type": "code",
      "source": [
        "%cd A-journey-into-Convolutional-Neural-Network-visualization-/"
      ],
      "metadata": {
        "colab": {
          "base_uri": "https://localhost:8080/"
        },
        "id": "M1sEWk1Cq42H",
        "outputId": "fd09e7c9-9d06-4ed7-9682-f810fa1cae89"
      },
      "execution_count": null,
      "outputs": [
        {
          "output_type": "stream",
          "name": "stdout",
          "text": [
            "/content/A-journey-into-Convolutional-Neural-Network-visualization-\n"
          ]
        }
      ]
    },
    {
      "cell_type": "code",
      "source": [
        "from torchvision.models import *\n",
        "from visualisation.core.utils import device\n",
        "from efficientnet_pytorch import EfficientNet\n",
        "import glob\n",
        "import matplotlib.pyplot as plt\n",
        "import numpy as np\n",
        "import torch\n",
        "from utils import *\n",
        "import PIL.Image\n",
        "import cv2\n",
        "\n",
        "from visualisation.core.utils import device\n",
        "from visualisation.core.utils import image_net_postprocessing\n",
        "\n",
        "from torchvision.transforms import ToTensor, Resize, Compose, ToPILImage\n",
        "from visualisation.core import *\n",
        "from visualisation.core.utils import image_net_preprocessing\n",
        "\n",
        "# for animation\n",
        "%matplotlib inline\n",
        "from IPython.display import Image\n",
        "from matplotlib.animation import FuncAnimation\n",
        "from collections import OrderedDict"
      ],
      "metadata": {
        "id": "RxRjKYt2q6J9"
      },
      "execution_count": null,
      "outputs": []
    },
    {
      "cell_type": "code",
      "source": [
        "from PIL import Image\n",
        "\n",
        "image_paths = [\n",
        "\"/content/drive/MyDrive/느티나무/test/disease/flickr_180_1.jpg\"\n",
        "]\n",
        "\n",
        "# Load the images\n",
        "images = [Image.open(path).convert('RGB') for path in image_paths]\n",
        "inputs  = [Compose([Resize((224,224)), ToTensor(), image_net_preprocessing])(x).unsqueeze(0) for x in images]\n",
        "inputs = [i.to(device) for i in inputs]\n",
        "\n",
        "model_outs = OrderedDict()\n",
        "model_name = 'efficientnet_b7'\n",
        "\n",
        "model.eval()\n",
        "\n",
        "# Assuming GradCam is defined appropriately\n",
        "vis = GradCam(model, device)\n",
        "\n",
        "model_outs[model_name] = list(map(lambda x: tensor2img(vis(x, None, postprocessing=image_net_postprocessing)[0]), inputs))\n",
        "\n",
        "del model\n",
        "torch.cuda.empty_cache()"
      ],
      "metadata": {
        "colab": {
          "base_uri": "https://localhost:8080/",
          "height": 241
        },
        "id": "B2FfOgwnuGsr",
        "outputId": "b379446a-b06e-4352-e598-45b97e814935"
      },
      "execution_count": 13,
      "outputs": [
        {
          "output_type": "display_data",
          "data": {
            "image/png": "[encoded data removed]",
            "text/plain": [
              "<IPython.core.display.Image object>"
            ]
          },
          "metadata": {
            "image/png": {
              "width": 224,
              "height": 224
            }
          }
        }
      ]
    },
    {
      "cell_type": "code",
      "source": [],
      "metadata": {
        "id": "emtmgzfjuP0j"
      },
      "execution_count": null,
      "outputs": []
    }
  ],
  "metadata": {
    "colab": {
      "machine_shape": "hm",
      "provenance": [],
      "gpuType": "T4"
    },
    "kernelspec": {
      "display_name": "Python 3",
      "name": "python3"
    },
    "language_info": {
      "name": "python"
    },
    "accelerator": "GPU"
  },
  "nbformat": 4,
  "nbformat_minor": 0
}